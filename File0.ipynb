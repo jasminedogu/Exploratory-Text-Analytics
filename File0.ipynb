{
 "cells": [
  {
   "cell_type": "markdown",
   "id": "described-cosmetic",
   "metadata": {},
   "source": [
    "# Project: The Great Gatsby\n",
    "\n",
    "Elit Jasmine Dogu (ejd5mm)       \n",
    "DS 5001    \n",
    "5 May 2021    \n",
    "*Third year, Undergraduate Student*     \n",
    "\n",
    "\n"
   ]
  },
  {
   "cell_type": "markdown",
   "id": "consistent-steal",
   "metadata": {},
   "source": [
    "<center><img src=\"images/the-great-gatsby.jpeg\"/></center>\n",
    "Image Source: https://www.tourchautauqua.com/events/the-great-gatsby "
   ]
  },
  {
   "cell_type": "markdown",
   "id": "ahead-oakland",
   "metadata": {},
   "source": [
    "# About the Book\n",
    "## Book Summary\n",
    "The main character is a man named Nick Carraway, A Yale graduate who moved from Minnesota to New York to the East Egg, an area known to be populated by people who are the \"new rich,\" meaning people wh oare just now establishing their social connections and wealth. In the house next to him lives a man named Jay Gatsby who throws extravagant, huge parties every Saturday Night. \n",
    "\n",
    "Although Nick does not live in the East Egg, the side with the upper class, his cousin Daisy Buchanan and her husband Tom Buchanan live there and invite him out for dinner. Through Daisy and Tom, Nick meets a young lady named Jordan Baker, who is said to live in a valley of ashes between West Egg and New York City. Through Jordan, Nick learns that Tom has been having an affair with a woman named Myrtle Wilson.\n",
    "\n",
    "Nick eventually gets invited to one of Gatsby's parties, and there he and Jordan meet Gatsby. Gatsby is said to have an English accent and calls everyone \"old sport.' Gatsby tells Jordan that he has known Daisy since 1917 and has been passionately in love with her. He stares at a green light that he sees across from his mansion, which is locateed at the end of her dock. Gatsby wants Nick to reunite him and Daisy, but is worried Daisy won't want to see him if she knows that he is in love with her. Nick hears all of this from Jordan, and he invites Daisy to have tea at his house without telling her that Gatsby will be there as well. Although initially awkward, Gatsby and Daisy rekindle their relationship and begin an affair. \n",
    "\n",
    "Tom becomes suspicious of this affair and at a formal lunch at the Buchanans', he notices Gatsby staring passionately at Daisy, so he confronts Gatsby. Tom is extremely upset with the situation, and he tells Daisy that Gatsby is a criminal as his fortune comes from bootlegging alcohol along with other illegal activites. They later find out that Gatsby's car has struck and killed Myrtle. As they rush back to Long Island, Nick finds out from Gatsby that Daisy had been driving the car when it hit Myrtle. Gatsby claims that he is still willing to take the blame for it. The next day, when Tom tells Myrtle's husband George that Gatsby was the driver of the car when it hit Myrtle, George  assumes that Gatsby must have been her lover and finds him in his pool at the mansion and shoots him. He then also kills himself after. \n",
    "\n",
    "Nick ends up holding a funeral for Gatsby, ending his relationship with Jordan, and moving back to the Midwest. He feels an extreme disgust and emptiness towards the wealthy people on the East Coast. He realizes that Gatsby's dream of Daisy was always corrupted by money and dishonestly. The \"American Dream\" of happiness had instead been overshadowed by a chase for wealth and power. Nick links the American Dream to Gatsby's love for Daisy -- both are unachieveable. \n"
   ]
  },
  {
   "cell_type": "markdown",
   "id": "original-wallet",
   "metadata": {},
   "source": [
    "## Themes\n",
    "\n",
    "There are three main themes in this novel: Class, American Dream, Love and Marriage.\n",
    "\n",
    "*Class*: There is a lot of mention of the East Egg vs the West Egg and of old money/new money. The idea of class is brought up a lot in the book. For example, the quote \"They were careless people, Tom and Daisy—they smashed up things and . . . then retreated back into their money . . . and let other people clean up the mess they had made\" talks about how indifferent Tom and Daisy were to the effects of their actions. They messed (or in the case of the quote \"smashed\") Gatsby's heart, car, and life. Nick is digusted by this type of behavior where the wealthy feels that they can take advantage of their class status in order to do whatever it is that they would like to.\n",
    "\n",
    "\n",
    "*American Dream*: In the novel there is a scene where Gatsby is seen as stretching out his arm towards a green light that is at the end of Gatsby's dock. This green light represents both his lost love Daisy and also the American Dream. Green light can be a symbol for money, success, and the past. When we see that Gatsby is stretching for the green light but is unable to access it, this is a critical part of the novel. The quote from the book where this happens goes as follows, \"H]e stretched out his arms toward the dark water. . . . I . . . distinguished nothing except a single green light, minute and far way. . . . When I looked once more for Gatsby he had vanished. . . \"\n",
    "\n",
    "*Love and Marriage*: We see a lot of mention of affairs and of unhappy relationships in the book. There even is mention that Daisy did not want to marry Tom but did so because of his class status. The idea of love vs curiosity (or lust) comes into play a lot. For example, Nick says, \"For a while I lost sight of Jordan Baker, and then in midsummer I found her again . . . . I wasn’t actually in love, but I felt a sort of tender curiosity.\" He is talking about his on and off feelings of love towards Jordan. \n",
    "\n",
    "\n"
   ]
  },
  {
   "cell_type": "markdown",
   "id": "chief-basket",
   "metadata": {},
   "source": [
    "## Motivation\n",
    "In high school, I read the Great Gatsby and had to analyze it in depth for my AP Language and Composition course. This was all done subjectively based off of my knowledge of the author and the setting of the novel. I've never had the skillset to analyze the novel using a data science perspective till now; I'm extremely curious to see if I can get a new or different perspective on the novel by using data science and the libraries that Python contains. In addition, I am excited to see how well the different algorithms and tools I utilize will perform compared to my understanding of the novel. "
   ]
  },
  {
   "cell_type": "markdown",
   "id": "plastic-insertion",
   "metadata": {},
   "source": [
    "<center><img src=\"images/edited-GG.jpg\" width = '550'/></center>\n",
    "Image Source: https://www.teachervision.com/literature/the-great-gatsby-chapter-study-questions (edited to have words on it)"
   ]
  },
  {
   "cell_type": "markdown",
   "id": "difficult-patient",
   "metadata": {},
   "source": [
    "# Table of Contents - Where Everything is Located\n",
    "Each file has a more in-depth description of the information/code it contains; I tried to only add text where it was needed in the ipynb files. Meaning, if it was obvious what the plot or table was showing, I did not include much text (if any). To give a brief description of where everything is, I have included some of the elements below. Breaking up the project into multiple notebooks/files made it cleaner to look at as well as easier to run. Having too much in one notebook was extremely slow and often crashed."
   ]
  },
  {
   "cell_type": "markdown",
   "id": "concerned-hunger",
   "metadata": {},
   "source": [
    "**File1.ipynb**  \n",
    "- Data Cleaning \n",
    "- Wordcloud of Entire Novel\n",
    "- POS using NLTK\n",
    "- Looking at Most Frequent Nouns\n",
    "- Looking at Most Frequent Verbs\n",
    "    - Looking at Nouns in Relation to Verbs\n",
    "- Character Interactions\n",
    "- Novel Summary using NLP Techniques\n",
    "- Sentiment Analysis \n",
    "    - Token Level\n",
    "    - Sentence Level \n",
    "        - VADER Library and Sentiment Intensity Analyzer\n",
    "        \n",
    "**File2.ipynb**  \n",
    "- Word2vec\n",
    "- Visualizing Word2Vec\n",
    "- LDA Topic Modeling\n",
    "- Looking at the Topic Pertaining to Gatsby\n",
    "\n",
    "\n",
    "**File3.ipynb**\n",
    "- Extracting Length of Sentence \n",
    "- Sentence Length Plots\n",
    "    - Uncleaned Data\n",
    "    - Cleaned Data\n",
    "- Converting Lines to Tokens\n",
    "    - Normalizing Tokens\n",
    "- Convering Lines to Tokens Using NLTK\n",
    "    - Normalizing Tokens\n",
    "- Creating Vocabulary Table \n",
    "    - Looking at Word Frequency in Vocabulary Table \n",
    "- Book Information\n",
    "    - Front and Back End \n",
    "    - Chapters of the Novel\n",
    "- Grouping the Dataframes by Different OHCO Levels\n",
    "    - Chapter\n",
    "    - Paragraph \n",
    "    - Sentence\n",
    "    - Token\n",
    "- Unigram Model \n",
    "    - Predicting Sentences Using Unigram \n",
    "- N-Gram Model\n",
    "    - Generate Three Models\n",
    "    - Compute Joint Probabilities \n",
    "    - Compute Conditional Probabilities \n",
    "- Predicting Sentences\n",
    "- Exploring Pairs \n",
    "- Generating Text\n",
    "- Compute Entropy \n",
    "\n",
    "**File6.ipynb**\n",
    "- Tokenizing and Annotating with NLTK\n",
    "- Creating Token-Time Matrix\n",
    "- Visualizing Dispersion Plots of Words\n",
    "- Doing it Again but Better with Seaborn Strip Plots\n",
    "- Using KDE\n",
    "    -Creating Arrays of Offsets for Each Term\n",
    "- Visualizing the KDE Plots\n",
    "- Annotating Vocabulary Table with Stopwords\n",
    "- Adding Stems to Vocabulary Table\n",
    "    - Looking at Most Frequent stem_porter\n",
    "        - Exploring the Top Three \n",
    "    - Looking at Most Frequent stem_snowball\n",
    "        - Exploring the Top Three \n",
    "    - Looking at Most Frequent stem_lancaster\n",
    "         - Exploring the Top Three \n",
    "\n",
    " \n",
    "**File5.ipynb**\n",
    "- Annotated Token Table \n",
    "    - Adding pos_max\n",
    "- Creating Table of Tags\n",
    "    - Using ToT for POS Group\n",
    "- Creating Table of Emissions\n",
    "- Other Methods\n",
    "- Vocabulary Table Statistics\n",
    "- Word Length/ Entropy\n",
    "- Zipf's Law\n",
    "    - Computing term_rank\n",
    "- Visualizing Results\n",
    "- Summary Table\n",
    "- TFIDF\n",
    "- Computing TF Variants\n",
    "- Computing DF \n",
    "- Computing BOW TFIDF\n",
    "- Computing Vocabulary TFIDF_SUM\n",
    "- Visualizing the Work Above\n",
    "- Comparing Top Terms\n",
    "- Keeping Significant Terms\n",
    "- More Statistics\n",
    "\n",
    "**File6.ipynb**\n",
    "- Using SciKit Learn to Analyze Same Things as File5\n",
    "- Get TFIDF From BOW\n",
    "- Create a Normalized Table\n",
    "- LDA With SciKit Learn\n",
    "    - Convert Token Back to Doc Table\n",
    "    - Generating Model\n",
    "    - Looking at Theta\n",
    "- Compute Topic Entropy Over Terms\n",
    "- Compute Doc Entropy Over Topics\n",
    "- Inspect Results\n",
    "    - Create Topics and Get Top Words Per Topic\n",
    "- Look at Most Frequently Appearing Terms\n",
    "- Sort Topics by Doc Weight\n",
    "- Generate Word Embedding with Gensim Library"
   ]
  },
  {
   "cell_type": "markdown",
   "id": "certified-council",
   "metadata": {},
   "source": [
    "References:\n",
    "- https://www.tourchautauqua.com/events/the-great-gatsby \n",
    "- https://www.amazon.com/Greenlight-Great-Gatsby-Duesenberg-Die-cast/dp/B00YVCHSMQ\n",
    "- https://twitter.com/jayessart/status/1099515816754667520\n",
    "- http://mccormickml.com/2016/04/19/word2vec-tutorial-the-skip-gram-model/\n",
    "- https://nlp.stanford.edu/IR-book/html/htmledition/stemming-and-lemmatization-1.html\n",
    "- https://intellipaat.com/community/3111/what-are-the-major-differences-and-benefits-of-porter-and-lancaster-stemming-algorithms\n",
    "- https://www.teachervision.com/literature/the-great-gatsby-chapter-study-questions\n",
    "- https://towardsdatascience.com/thematic-analysis-of-the-great-gatsby-with-topic-modeling-1f27baae55f1\n",
    "- https://www.wayfair.com/Orren-Ellis--Ritwik-7-oz.-Martini-Glass-932414-L1235-K~W001974865.html?refid=GX490221401171-W001974865&device=c&ptid=878268225820&network=g&targetid=pla-878268225820&channel=GooglePLA&ireid=36408915&fdid=1817&gclid=CjwKCAjwnPOEBhA0EiwA609ReTlbLzmis1SsEZhwXomzHBdtkqYJmHh0LQ2XWCzdaRepnOjlEAdb7xoCjB8QAvD_BwE\n",
    "- All of the lecture/lab material\n"
   ]
  },
  {
   "cell_type": "code",
   "execution_count": null,
   "id": "accredited-cycle",
   "metadata": {},
   "outputs": [],
   "source": []
  }
 ],
 "metadata": {
  "kernelspec": {
   "display_name": "Python 3",
   "language": "python",
   "name": "python3"
  },
  "language_info": {
   "codemirror_mode": {
    "name": "ipython",
    "version": 3
   },
   "file_extension": ".py",
   "mimetype": "text/x-python",
   "name": "python",
   "nbconvert_exporter": "python",
   "pygments_lexer": "ipython3",
   "version": "3.7.4"
  }
 },
 "nbformat": 4,
 "nbformat_minor": 5
}
