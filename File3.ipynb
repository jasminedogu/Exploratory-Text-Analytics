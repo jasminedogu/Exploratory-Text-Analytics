{
 "cells": [
  {
   "cell_type": "markdown",
   "id": "proved-solid",
   "metadata": {},
   "source": [
    "Elit Jasmine Dogu (ejd5mm)       \n",
    "DS 5001    \n",
    "5 May 2021    \n",
    "*Third year, Undergraduate Student*     \n",
    "\n"
   ]
  },
  {
   "cell_type": "markdown",
   "id": "dedicated-sweet",
   "metadata": {},
   "source": [
    "# What This File Contains\n",
    "- Extracting Length of Sentence \n",
    "- Sentence Length Plots\n",
    "    - Uncleaned Data\n",
    "    - Cleaned Data\n",
    "- Converting Lines to Tokens\n",
    "    - Normalizing Tokens\n",
    "- Convering Lines to Tokens Using NLTK\n",
    "    - Normalizing Tokens\n",
    "- Creating Vocabulary Table \n",
    "    - Looking at Word Frequency in Vocabulary Table \n",
    "- Book Information\n",
    "    - Front and Back End \n",
    "    - Chapters of the Novel\n",
    "- Grouping the Dataframes by Different OHCO Levels\n",
    "    - Chapter\n",
    "    - Paragraph \n",
    "    - Sentence\n",
    "    - Token\n",
    "- Unigram Model \n",
    "    - Predicting Sentences Using Unigram \n",
    "- N-Gram Model\n",
    "    - Generate Three Models\n",
    "    - Compute Joint Probabilities \n",
    "    - Compute Conditional Probabilities \n",
    "- Predicting Sentences\n",
    "- Exploring Pairs \n",
    "- Generating Text\n",
    "- Compute Entropy \n",
    "\n",
    "Homework 2 and 3 "
   ]
  },
  {
   "cell_type": "markdown",
   "id": "designing-australian",
   "metadata": {},
   "source": [
    "## Imports"
   ]
  },
  {
   "cell_type": "code",
   "execution_count": 1,
   "id": "vocational-reasoning",
   "metadata": {},
   "outputs": [],
   "source": [
    "#imports \n",
    "\n",
    "import pandas as pd\n",
    "import numpy as np\n",
    "import re\n",
    "import seaborn as sns\n",
    "import matplotlib.pyplot as plt\n",
    "import nltk\n",
    "import matplotlib.pyplot as pla"
   ]
  },
  {
   "cell_type": "code",
   "execution_count": 2,
   "id": "driven-madison",
   "metadata": {},
   "outputs": [],
   "source": [
    "sns.set()\n",
    "#updates setting so graphics look better"
   ]
  },
  {
   "cell_type": "markdown",
   "id": "consistent-clear",
   "metadata": {},
   "source": [
    "## Data Set Up"
   ]
  },
  {
   "cell_type": "code",
   "execution_count": 3,
   "id": "reflected-annual",
   "metadata": {},
   "outputs": [],
   "source": [
    "#creating subdirectories\n",
    "data_in = './data_in'\n",
    "data_out = './data_out/file3'"
   ]
  },
  {
   "cell_type": "code",
   "execution_count": 4,
   "id": "curious-routine",
   "metadata": {},
   "outputs": [],
   "source": [
    "#reading in the txt file\n",
    "epub_file = \"The-Great-Gatsby.txt\" # Source file- Project Guttenburg "
   ]
  },
  {
   "cell_type": "code",
   "execution_count": 5,
   "id": "hungarian-migration",
   "metadata": {},
   "outputs": [],
   "source": [
    "epub = open(\"{}/{}\".format(data_in, epub_file), 'r', encoding='utf-8-sig').readlines() #reads each line \n",
    "epub_read = open(\"{}/{}\".format(data_in, epub_file), 'r', encoding='utf-8-sig').read() #reads each line \n",
    "\n",
    "#the initial source of data is considered the F0 format -- this is the \"The-Great-Gatsby.txt\" file that we are reading in\n",
    "df = pd.DataFrame(epub, columns=['line_str']) #dataframe constructor, and giving the column a name\n",
    "df.index.name = 'line_num' #making line_num index \n",
    "df.line_str = df.line_str.str.strip() #gets rid of precent/following white space\n",
    "df_no_cleaning = df.copy() #creating a copy for later"
   ]
  },
  {
   "cell_type": "code",
   "execution_count": 6,
   "id": "defensive-cinema",
   "metadata": {},
   "outputs": [
    {
     "data": {
      "text/html": [
       "<div>\n",
       "<style scoped>\n",
       "    .dataframe tbody tr th:only-of-type {\n",
       "        vertical-align: middle;\n",
       "    }\n",
       "\n",
       "    .dataframe tbody tr th {\n",
       "        vertical-align: top;\n",
       "    }\n",
       "\n",
       "    .dataframe thead th {\n",
       "        text-align: right;\n",
       "    }\n",
       "</style>\n",
       "<table border=\"1\" class=\"dataframe\">\n",
       "  <thead>\n",
       "    <tr style=\"text-align: right;\">\n",
       "      <th></th>\n",
       "      <th>line_str</th>\n",
       "    </tr>\n",
       "    <tr>\n",
       "      <th>line_num</th>\n",
       "      <th></th>\n",
       "    </tr>\n",
       "  </thead>\n",
       "  <tbody>\n",
       "    <tr>\n",
       "      <th>4734</th>\n",
       "      <td>counter. That’s one of his little stunts. I pi...</td>\n",
       "    </tr>\n",
       "    <tr>\n",
       "      <th>4501</th>\n",
       "      <td>“He was probably bumming his way home. He told...</td>\n",
       "    </tr>\n",
       "    <tr>\n",
       "      <th>4397</th>\n",
       "      <td>the traffic delayed them he slowed up until th...</td>\n",
       "    </tr>\n",
       "    <tr>\n",
       "      <th>3616</th>\n",
       "      <td>“Perhaps you know that lady.” Gatsby indicated...</td>\n",
       "    </tr>\n",
       "    <tr>\n",
       "      <th>2894</th>\n",
       "      <td>occasional thin drops swam like dew. Gatsby lo...</td>\n",
       "    </tr>\n",
       "    <tr>\n",
       "      <th>3576</th>\n",
       "      <td></td>\n",
       "    </tr>\n",
       "    <tr>\n",
       "      <th>818</th>\n",
       "      <td></td>\n",
       "    </tr>\n",
       "    <tr>\n",
       "      <th>2626</th>\n",
       "      <td>She began to cry—she cried and cried. I rushed...</td>\n",
       "    </tr>\n",
       "    <tr>\n",
       "      <th>4887</th>\n",
       "      <td></td>\n",
       "    </tr>\n",
       "    <tr>\n",
       "      <th>1943</th>\n",
       "      <td>in a crowded summer, and, until much later, th...</td>\n",
       "    </tr>\n",
       "  </tbody>\n",
       "</table>\n",
       "</div>"
      ],
      "text/plain": [
       "                                                   line_str\n",
       "line_num                                                   \n",
       "4734      counter. That’s one of his little stunts. I pi...\n",
       "4501      “He was probably bumming his way home. He told...\n",
       "4397      the traffic delayed them he slowed up until th...\n",
       "3616      “Perhaps you know that lady.” Gatsby indicated...\n",
       "2894      occasional thin drops swam like dew. Gatsby lo...\n",
       "3576                                                       \n",
       "818                                                        \n",
       "2626      She began to cry—she cried and cried. I rushed...\n",
       "4887                                                       \n",
       "1943      in a crowded summer, and, until much later, th..."
      ]
     },
     "execution_count": 6,
     "metadata": {},
     "output_type": "execute_result"
    }
   ],
   "source": [
    "df.sample(10) #looking to see if df is correctly setup, need to get rid of empty lines and rows with dashes "
   ]
  },
  {
   "cell_type": "code",
   "execution_count": 7,
   "id": "beautiful-chosen",
   "metadata": {},
   "outputs": [],
   "source": [
    "df['line_str'].replace('', np.nan, inplace=True) #replacing empty rows with NA's\n",
    "df= df.dropna(subset=['line_str']) #dropping rows with NA's"
   ]
  },
  {
   "cell_type": "code",
   "execution_count": 8,
   "id": "forty-viewer",
   "metadata": {},
   "outputs": [
    {
     "data": {
      "text/plain": [
       "'The Project Gutenberg eBook of The Great Gatsby, by F. Scott Fitzgerald'"
      ]
     },
     "execution_count": 8,
     "metadata": {},
     "output_type": "execute_result"
    }
   ],
   "source": [
    "#extracts the title of the book based on visual cues in the text\n",
    "title_of_novel = df.loc[0].line_str.replace('The Project Gutenberg EBook of ', '')\n",
    "title_of_novel #gives the name of the novel "
   ]
  },
  {
   "cell_type": "code",
   "execution_count": 9,
   "id": "impaired-rebecca",
   "metadata": {},
   "outputs": [
    {
     "data": {
      "text/plain": [
       "5053"
      ]
     },
     "execution_count": 9,
     "metadata": {},
     "output_type": "execute_result"
    }
   ],
   "source": [
    "df.shape[0] #number of lines in the novel"
   ]
  },
  {
   "cell_type": "markdown",
   "id": "cognitive-thumb",
   "metadata": {},
   "source": [
    "The novel has 5053 lines with the nonessential rows taken out. Currently, the dataframe only contains text that is relevant to the novel. However, it has pre and post matter, which in later steps will also be cleaned."
   ]
  },
  {
   "cell_type": "markdown",
   "id": "rural-variance",
   "metadata": {},
   "source": [
    "## Extracting a Simple Feature\n",
    "Here, we will be extracting the length of each sentence as our first feature"
   ]
  },
  {
   "cell_type": "code",
   "execution_count": 10,
   "id": "monetary-doctrine",
   "metadata": {},
   "outputs": [
    {
     "data": {
      "text/html": [
       "<div>\n",
       "<style scoped>\n",
       "    .dataframe tbody tr th:only-of-type {\n",
       "        vertical-align: middle;\n",
       "    }\n",
       "\n",
       "    .dataframe tbody tr th {\n",
       "        vertical-align: top;\n",
       "    }\n",
       "\n",
       "    .dataframe thead th {\n",
       "        text-align: right;\n",
       "    }\n",
       "</style>\n",
       "<table border=\"1\" class=\"dataframe\">\n",
       "  <thead>\n",
       "    <tr style=\"text-align: right;\">\n",
       "      <th></th>\n",
       "      <th>line_str</th>\n",
       "      <th>len</th>\n",
       "    </tr>\n",
       "    <tr>\n",
       "      <th>line_num</th>\n",
       "      <th></th>\n",
       "      <th></th>\n",
       "    </tr>\n",
       "  </thead>\n",
       "  <tbody>\n",
       "    <tr>\n",
       "      <th>2709</th>\n",
       "      <td>“Why didn’t he ask you to arrange a meeting?”</td>\n",
       "      <td>45</td>\n",
       "    </tr>\n",
       "    <tr>\n",
       "      <th>1037</th>\n",
       "      <td>was converted into impressive hauteur. Her lau...</td>\n",
       "      <td>70</td>\n",
       "    </tr>\n",
       "    <tr>\n",
       "      <th>3835</th>\n",
       "      <td>all slowly, he could find out what that thing ...</td>\n",
       "      <td>51</td>\n",
       "    </tr>\n",
       "    <tr>\n",
       "      <th>5699</th>\n",
       "      <td>from view. The police, on the strength of what...</td>\n",
       "      <td>68</td>\n",
       "    </tr>\n",
       "    <tr>\n",
       "      <th>2022</th>\n",
       "      <td>“No, you’re not.”</td>\n",
       "      <td>17</td>\n",
       "    </tr>\n",
       "    <tr>\n",
       "      <th>2245</th>\n",
       "      <td>“That’s the one from Montenegro.”</td>\n",
       "      <td>33</td>\n",
       "    </tr>\n",
       "    <tr>\n",
       "      <th>59</th>\n",
       "      <td>In my younger and more vulnerable years my fat...</td>\n",
       "      <td>69</td>\n",
       "    </tr>\n",
       "    <tr>\n",
       "      <th>805</th>\n",
       "      <td>The fact that he had one was insisted upon whe...</td>\n",
       "      <td>69</td>\n",
       "    </tr>\n",
       "    <tr>\n",
       "      <th>4123</th>\n",
       "      <td>a long time ago.</td>\n",
       "      <td>16</td>\n",
       "    </tr>\n",
       "    <tr>\n",
       "      <th>4370</th>\n",
       "      <td>accelerator with the double purpose of overtak...</td>\n",
       "      <td>67</td>\n",
       "    </tr>\n",
       "  </tbody>\n",
       "</table>\n",
       "</div>"
      ],
      "text/plain": [
       "                                                   line_str  len\n",
       "line_num                                                        \n",
       "2709          “Why didn’t he ask you to arrange a meeting?”   45\n",
       "1037      was converted into impressive hauteur. Her lau...   70\n",
       "3835      all slowly, he could find out what that thing ...   51\n",
       "5699      from view. The police, on the strength of what...   68\n",
       "2022                                      “No, you’re not.”   17\n",
       "2245                      “That’s the one from Montenegro.”   33\n",
       "59        In my younger and more vulnerable years my fat...   69\n",
       "805       The fact that he had one was insisted upon whe...   69\n",
       "4123                                       a long time ago.   16\n",
       "4370      accelerator with the double purpose of overtak...   67"
      ]
     },
     "execution_count": 10,
     "metadata": {},
     "output_type": "execute_result"
    }
   ],
   "source": [
    "df2 = df.copy() #create a copy to avoid messing up original df\n",
    "df2['len'] = df2.line_str.str.len() #add column len, which is the length of each line_str\n",
    "df2.sample(10)"
   ]
  },
  {
   "cell_type": "code",
   "execution_count": 11,
   "id": "timely-security",
   "metadata": {},
   "outputs": [
    {
     "data": {
      "text/plain": [
       "count    5053.000000\n",
       "mean       55.908569\n",
       "std        19.054531\n",
       "min         1.000000\n",
       "25%        49.000000\n",
       "50%        66.000000\n",
       "75%        68.000000\n",
       "max        74.000000\n",
       "Name: len, dtype: float64"
      ]
     },
     "execution_count": 11,
     "metadata": {},
     "output_type": "execute_result"
    }
   ],
   "source": [
    "df2.len.describe() #looking at statistics of the df2"
   ]
  },
  {
   "cell_type": "markdown",
   "id": "conscious-weekend",
   "metadata": {},
   "source": [
    "As we can see above, the number of non-NA observations is 5053, which we also obtained earlier by looking at the length of our dataframe. Similarly, the mean number for the len column, which describes the length of the line, is 55.908569. This means that the average line in the novel is about 56 words long. This, compared to the minimum of 0 which results from empty lines and to the maximum of 74 words makes great sense. The dataframe df2 is a copy of df with a new feature added- the length of the line. This still belongs under the F1 format."
   ]
  },
  {
   "cell_type": "markdown",
   "id": "complimentary-central",
   "metadata": {},
   "source": [
    "## Sentence Length Plots\n",
    "Looking at the length of sentences for both the cleaned and the uncleaned dataframe "
   ]
  },
  {
   "cell_type": "markdown",
   "id": "intimate-celebration",
   "metadata": {},
   "source": [
    "### Uncleaned Data"
   ]
  },
  {
   "cell_type": "code",
   "execution_count": 12,
   "id": "permanent-screen",
   "metadata": {},
   "outputs": [
    {
     "data": {
      "image/png": "[encoded data removed]",
      "text/plain": [
       "<Figure size 432x288 with 1 Axes>"
      ]
     },
     "metadata": {},
     "output_type": "display_data"
    }
   ],
   "source": [
    "df_no_cleaning['len'] = df_no_cleaning.line_str.str.len()\n",
    "df_no_cleaning.len.hist();\n",
    "plt.title('Length Distribution of Each Line - Uncleaned',fontsize=14)\n",
    "plt.xlabel('Length',fontsize=14)\n",
    "plt.ylabel('Count',fontsize=14)\n",
    "plt.tick_params(axis='both',labelsize=14)\n",
    "plt.savefig('./data_out/file3/length_of_line_uncleaned.png')\n",
    "plt.show()\n"
   ]
  },
  {
   "cell_type": "markdown",
   "id": "divided-spotlight",
   "metadata": {},
   "source": [
    "Here, we are analyzing the length distribution of the data that is not cleaned. This will vary slightly from what we noticed with the cleaned dataset due to the presence of empty lines, which were removed in the cleaned dataframe. Looking at the histogram, we see the highest counts of length of sentence is around 0 and around 66."
   ]
  },
  {
   "cell_type": "code",
   "execution_count": 13,
   "id": "virgin-inclusion",
   "metadata": {},
   "outputs": [
    {
     "data": {
      "image/png": "[encoded data removed]",
      "text/plain": [
       "<Figure size 432x288 with 1 Axes>"
      ]
     },
     "metadata": {},
     "output_type": "display_data"
    }
   ],
   "source": [
    "df_no_cleaning.len.plot.kde();\n",
    "plt.title('Length Distribution of Each Line - Uncleaned',fontsize=14)\n",
    "plt.xlabel('Length', fontsize=14)\n",
    "plt.tick_params(axis='both',labelsize=14)\n",
    "plt.savefig('./data_out/file3/length_of_line_uncleaned_line.png')\n",
    "plt.show()"
   ]
  },
  {
   "cell_type": "markdown",
   "id": "instant-welding",
   "metadata": {},
   "source": [
    "Here, we are looking at the 'Length Distribution of Each Line' before the data cleaning was attempted. We can see here, we have a bimodal distribution with the two peaks at 0 and around 66. Having a bimodal distribution means that content is divided into paragraphs using lines and empty lines (length of 0). In other words, it represents that there are a lot of empty or short lines. \n",
    "\n",
    "Text in the western tradition is broken into paragraphs. Usually, within text, there will be content and empty lines. The content represents the heart of the novel as it is where the narrative lays. The empty lines, on the other hand, perform structural work; they help format the novel meaningfully and strategically. This difference between form and content shows us the nature of the artifact we are looking at. "
   ]
  },
  {
   "cell_type": "markdown",
   "id": "basic-arlington",
   "metadata": {},
   "source": [
    "### Cleaned Data"
   ]
  },
  {
   "cell_type": "code",
   "execution_count": 14,
   "id": "subject-tragedy",
   "metadata": {},
   "outputs": [
    {
     "data": {
      "image/png": "[encoded data removed]",
      "text/plain": [
       "<Figure size 432x288 with 1 Axes>"
      ]
     },
     "metadata": {},
     "output_type": "display_data"
    }
   ],
   "source": [
    "df2.len.hist();\n",
    "plt.title('Length Distribution of Each Line - Cleaned',fontsize=14)\n",
    "plt.xlabel('Length',fontsize=14)\n",
    "plt.ylabel('Count',fontsize=14)\n",
    "plt.tick_params(axis='both',labelsize=14)\n",
    "plt.savefig('./data_out/file3/length_of_line_cleaned.png')\n",
    "plt.show()"
   ]
  },
  {
   "cell_type": "markdown",
   "id": "continent-heater",
   "metadata": {},
   "source": [
    "Here, we are analyzing the cleaned dataframe, which has gotten rid of most 0's and the unnecessary dashes. This aims to look at just the content of the novel rather than the structural and content based material. Here, we can see that the most common length distribution of each line lies around 60+ words."
   ]
  },
  {
   "cell_type": "code",
   "execution_count": 15,
   "id": "talented-metadata",
   "metadata": {},
   "outputs": [
    {
     "data": {
      "image/png": "[encoded data removed]",
      "text/plain": [
       "<Figure size 432x288 with 1 Axes>"
      ]
     },
     "metadata": {},
     "output_type": "display_data"
    }
   ],
   "source": [
    "df2.len.plot.kde();\n",
    "plt.title('Length Distribution of Each Line - Cleaned',fontsize=14)\n",
    "plt.xlabel('Length', fontsize=14)\n",
    "plt.tick_params(axis='both',labelsize=14)\n",
    "plt.savefig('./data_out/file3/length_of_line_cleaned_line.png')\n",
    "plt.show()"
   ]
  },
  {
   "cell_type": "markdown",
   "id": "hindu-parallel",
   "metadata": {},
   "source": [
    "Looking at the plot above, we see that it is unimodal. This makes sense because looking at the cleaned dataframe, we do not have any empty spaces as we did with the uncleaned dataframe. The uncleaned dataframe, thereforee, also contained a high count of 0 length lines, which signified empty spaces used for structural work. Therefore, since the structure of the novel was modified, we would expect to not see a bimodal distribution in this scenario. Here, we notice that the highest density for the length of each line lies near 66-70 words. \n",
    "\n",
    "Lines can be thought of as arbitrary elements that have to do with the formatting requirements of the Project of Guttenburg. We now move onto looking at tokens, paragraphs, and chapters as these are more useful to analyze for our purposes."
   ]
  },
  {
   "cell_type": "markdown",
   "id": "weekly-kentucky",
   "metadata": {},
   "source": [
    "## Converting Lines into Tokens"
   ]
  },
  {
   "cell_type": "code",
   "execution_count": 16,
   "id": "close-subdivision",
   "metadata": {},
   "outputs": [],
   "source": [
    "#split line, convert to columns with tokens, stack columns, convert to frame, rename everything\n",
    "#using df2 which has the length of each line \n",
    "TOKEN = df2.line_str.str.split(expand=True).fillna('').stack().to_frame() #takes the column line_str, and splits by empty spaces. Take wide data representation into thin data representation \n",
    "TOKEN.index.names = ['line_num','token_num']\n",
    "TOKEN.columns = ['token_str']"
   ]
  },
  {
   "cell_type": "code",
   "execution_count": 17,
   "id": "religious-processor",
   "metadata": {},
   "outputs": [
    {
     "data": {
      "text/html": [
       "<div>\n",
       "<style scoped>\n",
       "    .dataframe tbody tr th:only-of-type {\n",
       "        vertical-align: middle;\n",
       "    }\n",
       "\n",
       "    .dataframe tbody tr th {\n",
       "        vertical-align: top;\n",
       "    }\n",
       "\n",
       "    .dataframe thead th {\n",
       "        text-align: right;\n",
       "    }\n",
       "</style>\n",
       "<table border=\"1\" class=\"dataframe\">\n",
       "  <thead>\n",
       "    <tr style=\"text-align: right;\">\n",
       "      <th></th>\n",
       "      <th></th>\n",
       "      <th>token_str</th>\n",
       "    </tr>\n",
       "    <tr>\n",
       "      <th>line_num</th>\n",
       "      <th>token_num</th>\n",
       "      <th></th>\n",
       "    </tr>\n",
       "  </thead>\n",
       "  <tbody>\n",
       "    <tr>\n",
       "      <th rowspan=\"10\" valign=\"top\">0</th>\n",
       "      <th>0</th>\n",
       "      <td>The</td>\n",
       "    </tr>\n",
       "    <tr>\n",
       "      <th>1</th>\n",
       "      <td>Project</td>\n",
       "    </tr>\n",
       "    <tr>\n",
       "      <th>2</th>\n",
       "      <td>Gutenberg</td>\n",
       "    </tr>\n",
       "    <tr>\n",
       "      <th>3</th>\n",
       "      <td>eBook</td>\n",
       "    </tr>\n",
       "    <tr>\n",
       "      <th>4</th>\n",
       "      <td>of</td>\n",
       "    </tr>\n",
       "    <tr>\n",
       "      <th>5</th>\n",
       "      <td>The</td>\n",
       "    </tr>\n",
       "    <tr>\n",
       "      <th>6</th>\n",
       "      <td>Great</td>\n",
       "    </tr>\n",
       "    <tr>\n",
       "      <th>7</th>\n",
       "      <td>Gatsby,</td>\n",
       "    </tr>\n",
       "    <tr>\n",
       "      <th>8</th>\n",
       "      <td>by</td>\n",
       "    </tr>\n",
       "    <tr>\n",
       "      <th>9</th>\n",
       "      <td>F.</td>\n",
       "    </tr>\n",
       "  </tbody>\n",
       "</table>\n",
       "</div>"
      ],
      "text/plain": [
       "                    token_str\n",
       "line_num token_num           \n",
       "0        0                The\n",
       "         1            Project\n",
       "         2          Gutenberg\n",
       "         3              eBook\n",
       "         4                 of\n",
       "         5                The\n",
       "         6              Great\n",
       "         7            Gatsby,\n",
       "         8                 by\n",
       "         9                 F."
      ]
     },
     "execution_count": 17,
     "metadata": {},
     "output_type": "execute_result"
    }
   ],
   "source": [
    "TOKEN.head(10)"
   ]
  },
  {
   "cell_type": "code",
   "execution_count": 18,
   "id": "identified-rwanda",
   "metadata": {},
   "outputs": [
    {
     "data": {
      "text/plain": [
       "44746"
      ]
     },
     "execution_count": 18,
     "metadata": {},
     "output_type": "execute_result"
    }
   ],
   "source": [
    "#counting the number of empty strings in the token table\n",
    "TOKEN[TOKEN.token_str == ''].count()[0] # Number of empty lines\n"
   ]
  },
  {
   "cell_type": "markdown",
   "id": "aggressive-ethnic",
   "metadata": {},
   "source": [
    "As seen above, there are 44,746 empty strings in the token table. Let's clean this up."
   ]
  },
  {
   "cell_type": "code",
   "execution_count": 19,
   "id": "useful-necklace",
   "metadata": {},
   "outputs": [
    {
     "data": {
      "text/html": [
       "<div>\n",
       "<style scoped>\n",
       "    .dataframe tbody tr th:only-of-type {\n",
       "        vertical-align: middle;\n",
       "    }\n",
       "\n",
       "    .dataframe tbody tr th {\n",
       "        vertical-align: top;\n",
       "    }\n",
       "\n",
       "    .dataframe thead th {\n",
       "        text-align: right;\n",
       "    }\n",
       "</style>\n",
       "<table border=\"1\" class=\"dataframe\">\n",
       "  <thead>\n",
       "    <tr style=\"text-align: right;\">\n",
       "      <th></th>\n",
       "      <th></th>\n",
       "      <th>token_str</th>\n",
       "    </tr>\n",
       "    <tr>\n",
       "      <th>line_num</th>\n",
       "      <th>token_num</th>\n",
       "      <th></th>\n",
       "    </tr>\n",
       "  </thead>\n",
       "  <tbody>\n",
       "    <tr>\n",
       "      <th rowspan=\"5\" valign=\"top\">0</th>\n",
       "      <th>0</th>\n",
       "      <td>The</td>\n",
       "    </tr>\n",
       "    <tr>\n",
       "      <th>1</th>\n",
       "      <td>Project</td>\n",
       "    </tr>\n",
       "    <tr>\n",
       "      <th>2</th>\n",
       "      <td>Gutenberg</td>\n",
       "    </tr>\n",
       "    <tr>\n",
       "      <th>3</th>\n",
       "      <td>eBook</td>\n",
       "    </tr>\n",
       "    <tr>\n",
       "      <th>4</th>\n",
       "      <td>of</td>\n",
       "    </tr>\n",
       "  </tbody>\n",
       "</table>\n",
       "</div>"
      ],
      "text/plain": [
       "                    token_str\n",
       "line_num token_num           \n",
       "0        0                The\n",
       "         1            Project\n",
       "         2          Gutenberg\n",
       "         3              eBook\n",
       "         4                 of"
      ]
     },
     "execution_count": 19,
     "metadata": {},
     "output_type": "execute_result"
    }
   ],
   "source": [
    "#removing space\n",
    "#preserved spaces first, can do it with removing spaces too as shown below\n",
    "TOKEN = df2.line_str.str.split(expand=True).stack().to_frame() #  No fillna('')\n",
    "TOKEN.index.names = ['line_num','token_num']\n",
    "TOKEN.columns = ['token_str']\n",
    "TOKEN.head()"
   ]
  },
  {
   "cell_type": "code",
   "execution_count": 20,
   "id": "existing-central",
   "metadata": {},
   "outputs": [
    {
     "data": {
      "text/plain": [
       "0"
      ]
     },
     "execution_count": 20,
     "metadata": {},
     "output_type": "execute_result"
    }
   ],
   "source": [
    "TOKEN[TOKEN.token_str == ''].count()[0]"
   ]
  },
  {
   "cell_type": "markdown",
   "id": "federal-strap",
   "metadata": {},
   "source": [
    "As seen above, we removed the .fillna() line to remove the spaces. As such, the empty strings in the token table is now 0. The dataframe TOKEN represents our most basic version of a token table. We will normalize to a Term String table in the next steps. The Term String feature added on to the Token table is still a part of the F2 Text Data level."
   ]
  },
  {
   "cell_type": "markdown",
   "id": "chubby-spoke",
   "metadata": {},
   "source": [
    "### Cleaning the Token Table\n",
    "Normalizing token_str into term_str"
   ]
  },
  {
   "cell_type": "code",
   "execution_count": 21,
   "id": "quick-brazilian",
   "metadata": {},
   "outputs": [],
   "source": [
    "TOKEN['term_str'] = TOKEN.token_str.replace('\\W+', '', regex=True).str.lower()\n",
    "#create a term_str\n",
    "#term is a class where token is an instance"
   ]
  },
  {
   "cell_type": "markdown",
   "id": "covered-option",
   "metadata": {},
   "source": [
    "The token table now also contains the normalized version of the token_str called the term_str."
   ]
  },
  {
   "cell_type": "code",
   "execution_count": 22,
   "id": "premium-lighting",
   "metadata": {},
   "outputs": [],
   "source": [
    "TOKEN.to_csv('{}/Great-Gatsby-TOKEN-NORMALIZED.csv'.format(data_out))"
   ]
  },
  {
   "cell_type": "markdown",
   "id": "fitting-interstate",
   "metadata": {},
   "source": [
    "## Creating a Token Table Using NLTK"
   ]
  },
  {
   "cell_type": "code",
   "execution_count": 23,
   "id": "later-causing",
   "metadata": {},
   "outputs": [
    {
     "data": {
      "text/html": [
       "<div>\n",
       "<style scoped>\n",
       "    .dataframe tbody tr th:only-of-type {\n",
       "        vertical-align: middle;\n",
       "    }\n",
       "\n",
       "    .dataframe tbody tr th {\n",
       "        vertical-align: top;\n",
       "    }\n",
       "\n",
       "    .dataframe thead th {\n",
       "        text-align: right;\n",
       "    }\n",
       "</style>\n",
       "<table border=\"1\" class=\"dataframe\">\n",
       "  <thead>\n",
       "    <tr style=\"text-align: right;\">\n",
       "      <th></th>\n",
       "      <th></th>\n",
       "      <th>token_str</th>\n",
       "    </tr>\n",
       "    <tr>\n",
       "      <th>line_num</th>\n",
       "      <th>token_num</th>\n",
       "      <th></th>\n",
       "    </tr>\n",
       "  </thead>\n",
       "  <tbody>\n",
       "    <tr>\n",
       "      <th rowspan=\"5\" valign=\"top\">0</th>\n",
       "      <th>0</th>\n",
       "      <td>The</td>\n",
       "    </tr>\n",
       "    <tr>\n",
       "      <th>1</th>\n",
       "      <td>Project</td>\n",
       "    </tr>\n",
       "    <tr>\n",
       "      <th>2</th>\n",
       "      <td>Gutenberg</td>\n",
       "    </tr>\n",
       "    <tr>\n",
       "      <th>3</th>\n",
       "      <td>eBook</td>\n",
       "    </tr>\n",
       "    <tr>\n",
       "      <th>4</th>\n",
       "      <td>of</td>\n",
       "    </tr>\n",
       "    <tr>\n",
       "      <th>...</th>\n",
       "      <th>...</th>\n",
       "      <td>...</td>\n",
       "    </tr>\n",
       "    <tr>\n",
       "      <th rowspan=\"5\" valign=\"top\">6772</th>\n",
       "      <th>6</th>\n",
       "      <td>hear</td>\n",
       "    </tr>\n",
       "    <tr>\n",
       "      <th>7</th>\n",
       "      <td>about</td>\n",
       "    </tr>\n",
       "    <tr>\n",
       "      <th>8</th>\n",
       "      <td>new</td>\n",
       "    </tr>\n",
       "    <tr>\n",
       "      <th>9</th>\n",
       "      <td>eBooks</td>\n",
       "    </tr>\n",
       "    <tr>\n",
       "      <th>10</th>\n",
       "      <td>.</td>\n",
       "    </tr>\n",
       "  </tbody>\n",
       "</table>\n",
       "<p>64568 rows × 1 columns</p>\n",
       "</div>"
      ],
      "text/plain": [
       "                    token_str\n",
       "line_num token_num           \n",
       "0        0                The\n",
       "         1            Project\n",
       "         2          Gutenberg\n",
       "         3              eBook\n",
       "         4                 of\n",
       "...                       ...\n",
       "6772     6               hear\n",
       "         7              about\n",
       "         8                new\n",
       "         9             eBooks\n",
       "         10                 .\n",
       "\n",
       "[64568 rows x 1 columns]"
      ]
     },
     "execution_count": 23,
     "metadata": {},
     "output_type": "execute_result"
    }
   ],
   "source": [
    "import nltk\n",
    "df2 = df.copy()\n",
    "df2 = df2.reset_index()\n",
    "\n",
    "NLTK_TOKEN = pd.DataFrame(df2.line_str.map(nltk.word_tokenize).tolist(), index=df2.line_num).stack()\n",
    "NLTK_TOKEN = pd.DataFrame(NLTK_TOKEN)\n",
    "NLTK_TOKEN.index.names = ['line_num','token_num']\n",
    "NLTK_TOKEN.columns = ['token_str']\n",
    "NLTK_TOKEN"
   ]
  },
  {
   "cell_type": "markdown",
   "id": "accessible-murder",
   "metadata": {},
   "source": [
    "Above, we are creating the same TOKEN table that we created before. However, this time instead of creating each token using a regex, we will be using the package NLTK to create each token. This package is extremely powerful and can be useful for tokenizing certain words that would not be captured by the regex. While not always, it can perform better than the regex used to split each token. For the purposes of this project, I have kept both this TOKEN table as well as the one created right before to show the different ways in which a basic TOKEN table can be created. "
   ]
  },
  {
   "cell_type": "code",
   "execution_count": 24,
   "id": "prospective-spokesman",
   "metadata": {},
   "outputs": [
    {
     "data": {
      "text/plain": [
       "0"
      ]
     },
     "execution_count": 24,
     "metadata": {},
     "output_type": "execute_result"
    }
   ],
   "source": [
    "NLTK_TOKEN[NLTK_TOKEN.token_str == ''].count()[0]"
   ]
  },
  {
   "cell_type": "markdown",
   "id": "earlier-boring",
   "metadata": {},
   "source": [
    "### Cleaning the Token Table\n",
    "Normalizing token_str into term_str as we did before."
   ]
  },
  {
   "cell_type": "code",
   "execution_count": 25,
   "id": "tropical-camping",
   "metadata": {},
   "outputs": [
    {
     "data": {
      "text/html": [
       "<div>\n",
       "<style scoped>\n",
       "    .dataframe tbody tr th:only-of-type {\n",
       "        vertical-align: middle;\n",
       "    }\n",
       "\n",
       "    .dataframe tbody tr th {\n",
       "        vertical-align: top;\n",
       "    }\n",
       "\n",
       "    .dataframe thead th {\n",
       "        text-align: right;\n",
       "    }\n",
       "</style>\n",
       "<table border=\"1\" class=\"dataframe\">\n",
       "  <thead>\n",
       "    <tr style=\"text-align: right;\">\n",
       "      <th></th>\n",
       "      <th></th>\n",
       "      <th>token_str</th>\n",
       "      <th>term_str</th>\n",
       "    </tr>\n",
       "    <tr>\n",
       "      <th>line_num</th>\n",
       "      <th>token_num</th>\n",
       "      <th></th>\n",
       "      <th></th>\n",
       "    </tr>\n",
       "  </thead>\n",
       "  <tbody>\n",
       "    <tr>\n",
       "      <th rowspan=\"5\" valign=\"top\">0</th>\n",
       "      <th>0</th>\n",
       "      <td>The</td>\n",
       "      <td>the</td>\n",
       "    </tr>\n",
       "    <tr>\n",
       "      <th>1</th>\n",
       "      <td>Project</td>\n",
       "      <td>project</td>\n",
       "    </tr>\n",
       "    <tr>\n",
       "      <th>2</th>\n",
       "      <td>Gutenberg</td>\n",
       "      <td>gutenberg</td>\n",
       "    </tr>\n",
       "    <tr>\n",
       "      <th>3</th>\n",
       "      <td>eBook</td>\n",
       "      <td>ebook</td>\n",
       "    </tr>\n",
       "    <tr>\n",
       "      <th>4</th>\n",
       "      <td>of</td>\n",
       "      <td>of</td>\n",
       "    </tr>\n",
       "    <tr>\n",
       "      <th>...</th>\n",
       "      <th>...</th>\n",
       "      <td>...</td>\n",
       "      <td>...</td>\n",
       "    </tr>\n",
       "    <tr>\n",
       "      <th rowspan=\"5\" valign=\"top\">6772</th>\n",
       "      <th>6</th>\n",
       "      <td>hear</td>\n",
       "      <td>hear</td>\n",
       "    </tr>\n",
       "    <tr>\n",
       "      <th>7</th>\n",
       "      <td>about</td>\n",
       "      <td>about</td>\n",
       "    </tr>\n",
       "    <tr>\n",
       "      <th>8</th>\n",
       "      <td>new</td>\n",
       "      <td>new</td>\n",
       "    </tr>\n",
       "    <tr>\n",
       "      <th>9</th>\n",
       "      <td>eBooks</td>\n",
       "      <td>ebooks</td>\n",
       "    </tr>\n",
       "    <tr>\n",
       "      <th>10</th>\n",
       "      <td>.</td>\n",
       "      <td></td>\n",
       "    </tr>\n",
       "  </tbody>\n",
       "</table>\n",
       "<p>64568 rows × 2 columns</p>\n",
       "</div>"
      ],
      "text/plain": [
       "                    token_str   term_str\n",
       "line_num token_num                      \n",
       "0        0                The        the\n",
       "         1            Project    project\n",
       "         2          Gutenberg  gutenberg\n",
       "         3              eBook      ebook\n",
       "         4                 of         of\n",
       "...                       ...        ...\n",
       "6772     6               hear       hear\n",
       "         7              about      about\n",
       "         8                new        new\n",
       "         9             eBooks     ebooks\n",
       "         10                 .           \n",
       "\n",
       "[64568 rows x 2 columns]"
      ]
     },
     "execution_count": 25,
     "metadata": {},
     "output_type": "execute_result"
    }
   ],
   "source": [
    "NLTK_TOKEN['term_str'] = NLTK_TOKEN.token_str.replace('\\W+', '', regex=True).str.lower()\n",
    "#create a term_str\n",
    "#term is a class where token is an instance\n",
    "NLTK_TOKEN"
   ]
  },
  {
   "cell_type": "markdown",
   "id": "false-drunk",
   "metadata": {},
   "source": [
    "Here, we are once again normalizing the table so that it contains a `term_str` column. This contains the same information as `token_str` however is normalized in the sence that capitalization is avoided, etc. "
   ]
  },
  {
   "cell_type": "code",
   "execution_count": 26,
   "id": "organizational-nickname",
   "metadata": {},
   "outputs": [],
   "source": [
    "NLTK_TOKEN.to_csv('{}/Great-Gatsby-TOKEN-NLTK-NORMALIZED.csv'.format(data_out))"
   ]
  },
  {
   "cell_type": "markdown",
   "id": "artistic-desperate",
   "metadata": {},
   "source": [
    "## Creating Vocabulary Table \n",
    "A `vocabulary table` is a table of terms (As opposed to tokens, which are term _instances_.). A vocabulary table is still a part of the F2 Text Data format.\n"
   ]
  },
  {
   "cell_type": "code",
   "execution_count": 27,
   "id": "phantom-trash",
   "metadata": {},
   "outputs": [
    {
     "data": {
      "text/html": [
       "<div>\n",
       "<style scoped>\n",
       "    .dataframe tbody tr th:only-of-type {\n",
       "        vertical-align: middle;\n",
       "    }\n",
       "\n",
       "    .dataframe tbody tr th {\n",
       "        vertical-align: top;\n",
       "    }\n",
       "\n",
       "    .dataframe thead th {\n",
       "        text-align: right;\n",
       "    }\n",
       "</style>\n",
       "<table border=\"1\" class=\"dataframe\">\n",
       "  <thead>\n",
       "    <tr style=\"text-align: right;\">\n",
       "      <th></th>\n",
       "      <th>n</th>\n",
       "    </tr>\n",
       "    <tr>\n",
       "      <th>term_str</th>\n",
       "      <th></th>\n",
       "    </tr>\n",
       "  </thead>\n",
       "  <tbody>\n",
       "    <tr>\n",
       "      <th></th>\n",
       "      <td>113</td>\n",
       "    </tr>\n",
       "    <tr>\n",
       "      <th>1</th>\n",
       "      <td>2</td>\n",
       "    </tr>\n",
       "    <tr>\n",
       "      <th>12</th>\n",
       "      <td>1</td>\n",
       "    </tr>\n",
       "    <tr>\n",
       "      <th>1500</th>\n",
       "      <td>1</td>\n",
       "    </tr>\n",
       "    <tr>\n",
       "      <th>158th</th>\n",
       "      <td>1</td>\n",
       "    </tr>\n",
       "    <tr>\n",
       "      <th>...</th>\n",
       "      <td>...</td>\n",
       "    </tr>\n",
       "    <tr>\n",
       "      <th>youth</th>\n",
       "      <td>4</td>\n",
       "    </tr>\n",
       "    <tr>\n",
       "      <th>youve</th>\n",
       "      <td>13</td>\n",
       "    </tr>\n",
       "    <tr>\n",
       "      <th>youwhy</th>\n",
       "      <td>1</td>\n",
       "    </tr>\n",
       "    <tr>\n",
       "      <th>yukon</th>\n",
       "      <td>1</td>\n",
       "    </tr>\n",
       "    <tr>\n",
       "      <th>zelda</th>\n",
       "      <td>1</td>\n",
       "    </tr>\n",
       "  </tbody>\n",
       "</table>\n",
       "<p>6660 rows × 1 columns</p>\n",
       "</div>"
      ],
      "text/plain": [
       "            n\n",
       "term_str     \n",
       "          113\n",
       "1           2\n",
       "12          1\n",
       "1500        1\n",
       "158th       1\n",
       "...       ...\n",
       "youth       4\n",
       "youve      13\n",
       "youwhy      1\n",
       "yukon       1\n",
       "zelda       1\n",
       "\n",
       "[6660 rows x 1 columns]"
      ]
     },
     "execution_count": 27,
     "metadata": {},
     "output_type": "execute_result"
    }
   ],
   "source": [
    "VOCAB = pd.DataFrame(TOKEN.term_str.value_counts()) #.value_counts() takes every unique value and counts how many times it exists, returns a series\n",
    "VOCAB.columns = ['n'] #name the new column that emerges n \n",
    "VOCAB.index.name = 'term_str' #name index term_str\n",
    "VOCAB.sort_index()"
   ]
  },
  {
   "cell_type": "markdown",
   "id": "completed-aside",
   "metadata": {},
   "source": [
    "## Looking at Word Frequency in Vocab Table"
   ]
  },
  {
   "cell_type": "code",
   "execution_count": 28,
   "id": "focal-iceland",
   "metadata": {},
   "outputs": [
    {
     "data": {
      "image/png": "[encoded data removed]",
      "text/plain": [
       "<Figure size 720x720 with 1 Axes>"
      ]
     },
     "metadata": {},
     "output_type": "display_data"
    }
   ],
   "source": [
    "#look at most frequent words\n",
    "VOCAB.sort_values('n').tail(20).plot.barh(figsize=(10,10));"
   ]
  },
  {
   "cell_type": "code",
   "execution_count": 29,
   "id": "expensive-effect",
   "metadata": {},
   "outputs": [],
   "source": [
    "VOCAB.to_csv('{}/Great-Gatsby-VOCAB.csv'.format(data_out))"
   ]
  },
  {
   "cell_type": "markdown",
   "id": "alleged-highlight",
   "metadata": {},
   "source": [
    "Looking at the plot above, we can see the most frequent words that are used in our novel. We notice that for a lot of the most frequent words, they are what are known as 'stop' words. This will be important in the future as we continue with our analysis."
   ]
  },
  {
   "cell_type": "markdown",
   "id": "embedded-three",
   "metadata": {},
   "source": [
    "## Book Information\n",
    "This will be Used to Subset the Dataset"
   ]
  },
  {
   "cell_type": "markdown",
   "id": "after-toolbox",
   "metadata": {},
   "source": [
    "### Remove Gutenberg's Front and Back Matter\n",
    "Looking at the front and back matter\n"
   ]
  },
  {
   "cell_type": "code",
   "execution_count": 30,
   "id": "rapid-diving",
   "metadata": {},
   "outputs": [],
   "source": [
    "#START AND END \n",
    "#removing front and back matter \n",
    "front = df.line_str.str.match(r\"Thomas Parke d’Invilliers\") #the novel starts after this line\n",
    "back = df.line_str.str.match(r\"\\*\\*\\*\\s*END OF THE PROJECT\") #novel ends at this line \n",
    "\n",
    "front_index = df.loc[front].index[0]\n",
    "back_index = df.loc[back].index[0]\n",
    "\n",
    "df = df.loc[front_index + 1 : back_index - 2]"
   ]
  },
  {
   "cell_type": "code",
   "execution_count": 31,
   "id": "purple-screw",
   "metadata": {},
   "outputs": [
    {
     "name": "stdout",
     "output_type": "stream",
     "text": [
      "54\n",
      "6427\n"
     ]
    }
   ],
   "source": [
    "print(front_index)\n",
    "print(back_index)"
   ]
  },
  {
   "cell_type": "markdown",
   "id": "adverse-update",
   "metadata": {},
   "source": [
    "The novel begins on line 54 of the file, and the novel ends at line 6,427 of the file. However, it is important to note there is text before and after these lines of the novel. The text before and after is irrelevant to our analysis as it is not the novel itself rather text about Project Gutenberg. As such, the  cells above get rid of the front and back matter, isolating the dataframe to the lines that are relevant to the project. This information (the start and end of the novel) was also used in File2.ipynb. "
   ]
  },
  {
   "cell_type": "code",
   "execution_count": 32,
   "id": "immediate-league",
   "metadata": {},
   "outputs": [],
   "source": [
    "#define dataframe using the location excessor here\n",
    "df = df.loc[front_index + 1 : back_index - 2]"
   ]
  },
  {
   "cell_type": "markdown",
   "id": "retired-instrumentation",
   "metadata": {},
   "source": [
    "## Chapters in the Novel"
   ]
  },
  {
   "cell_type": "code",
   "execution_count": 33,
   "id": "physical-marker",
   "metadata": {},
   "outputs": [
    {
     "data": {
      "text/html": [
       "<div>\n",
       "<style scoped>\n",
       "    .dataframe tbody tr th:only-of-type {\n",
       "        vertical-align: middle;\n",
       "    }\n",
       "\n",
       "    .dataframe tbody tr th {\n",
       "        vertical-align: top;\n",
       "    }\n",
       "\n",
       "    .dataframe thead th {\n",
       "        text-align: right;\n",
       "    }\n",
       "</style>\n",
       "<table border=\"1\" class=\"dataframe\">\n",
       "  <thead>\n",
       "    <tr style=\"text-align: right;\">\n",
       "      <th></th>\n",
       "      <th>line_str</th>\n",
       "    </tr>\n",
       "    <tr>\n",
       "      <th>line_num</th>\n",
       "      <th></th>\n",
       "    </tr>\n",
       "  </thead>\n",
       "  <tbody>\n",
       "    <tr>\n",
       "      <th>57</th>\n",
       "      <td>I</td>\n",
       "    </tr>\n",
       "    <tr>\n",
       "      <th>774</th>\n",
       "      <td>II</td>\n",
       "    </tr>\n",
       "    <tr>\n",
       "      <th>1321</th>\n",
       "      <td>III</td>\n",
       "    </tr>\n",
       "    <tr>\n",
       "      <th>2051</th>\n",
       "      <td>IV</td>\n",
       "    </tr>\n",
       "    <tr>\n",
       "      <th>2756</th>\n",
       "      <td>V</td>\n",
       "    </tr>\n",
       "    <tr>\n",
       "      <th>3329</th>\n",
       "      <td>VI</td>\n",
       "    </tr>\n",
       "    <tr>\n",
       "      <th>3866</th>\n",
       "      <td>VII</td>\n",
       "    </tr>\n",
       "    <tr>\n",
       "      <th>5206</th>\n",
       "      <td>VIII</td>\n",
       "    </tr>\n",
       "    <tr>\n",
       "      <th>5757</th>\n",
       "      <td>IX</td>\n",
       "    </tr>\n",
       "  </tbody>\n",
       "</table>\n",
       "</div>"
      ],
      "text/plain": [
       "         line_str\n",
       "line_num         \n",
       "57              I\n",
       "774            II\n",
       "1321          III\n",
       "2051           IV\n",
       "2756            V\n",
       "3329           VI\n",
       "3866          VII\n",
       "5206         VIII\n",
       "5757           IX"
      ]
     },
     "execution_count": 33,
     "metadata": {},
     "output_type": "execute_result"
    }
   ],
   "source": [
    "#finding all chapter headers\n",
    "#returns a boolean result/indexer \n",
    "roman = '[IVXLCM]+'\n",
    "chap_lines = df.line_str.str.match(r\"^\\s*{}\\s*$\".format(roman), case=False)\n",
    "df.loc[chap_lines]"
   ]
  },
  {
   "cell_type": "markdown",
   "id": "christian-night",
   "metadata": {},
   "source": [
    "The chart above shows the line number for where each chapter begins. The column on the right displays the chapters in the novel. We will convert the roman numeral chapters to integer values and assign every line in the novel its corresponding chapter number. As the program correctly deciphers, there are indeed 9 chapters in the novel."
   ]
  },
  {
   "cell_type": "code",
   "execution_count": 34,
   "id": "opponent-madison",
   "metadata": {},
   "outputs": [
    {
     "data": {
      "text/html": [
       "<div>\n",
       "<style scoped>\n",
       "    .dataframe tbody tr th:only-of-type {\n",
       "        vertical-align: middle;\n",
       "    }\n",
       "\n",
       "    .dataframe tbody tr th {\n",
       "        vertical-align: top;\n",
       "    }\n",
       "\n",
       "    .dataframe thead th {\n",
       "        text-align: right;\n",
       "    }\n",
       "</style>\n",
       "<table border=\"1\" class=\"dataframe\">\n",
       "  <thead>\n",
       "    <tr style=\"text-align: right;\">\n",
       "      <th></th>\n",
       "      <th>line_str</th>\n",
       "      <th>chap_num</th>\n",
       "    </tr>\n",
       "    <tr>\n",
       "      <th>line_num</th>\n",
       "      <th></th>\n",
       "      <th></th>\n",
       "    </tr>\n",
       "  </thead>\n",
       "  <tbody>\n",
       "    <tr>\n",
       "      <th>57</th>\n",
       "      <td>I</td>\n",
       "      <td>1.0</td>\n",
       "    </tr>\n",
       "    <tr>\n",
       "      <th>59</th>\n",
       "      <td>In my younger and more vulnerable years my fat...</td>\n",
       "      <td>1.0</td>\n",
       "    </tr>\n",
       "    <tr>\n",
       "      <th>60</th>\n",
       "      <td>that I’ve been turning over in my mind ever si...</td>\n",
       "      <td>1.0</td>\n",
       "    </tr>\n",
       "    <tr>\n",
       "      <th>62</th>\n",
       "      <td>“Whenever you feel like criticizing anyone,” h...</td>\n",
       "      <td>1.0</td>\n",
       "    </tr>\n",
       "    <tr>\n",
       "      <th>63</th>\n",
       "      <td>remember that all the people in this world hav...</td>\n",
       "      <td>1.0</td>\n",
       "    </tr>\n",
       "    <tr>\n",
       "      <th>...</th>\n",
       "      <td>...</td>\n",
       "      <td>...</td>\n",
       "    </tr>\n",
       "    <tr>\n",
       "      <th>6420</th>\n",
       "      <td>year recedes before us. It eluded us then, but...</td>\n",
       "      <td>9.0</td>\n",
       "    </tr>\n",
       "    <tr>\n",
       "      <th>6421</th>\n",
       "      <td>matter—tomorrow we will run faster, stretch ou...</td>\n",
       "      <td>9.0</td>\n",
       "    </tr>\n",
       "    <tr>\n",
       "      <th>6422</th>\n",
       "      <td>one fine morning—</td>\n",
       "      <td>9.0</td>\n",
       "    </tr>\n",
       "    <tr>\n",
       "      <th>6424</th>\n",
       "      <td>So we beat on, boats against the current, born...</td>\n",
       "      <td>9.0</td>\n",
       "    </tr>\n",
       "    <tr>\n",
       "      <th>6425</th>\n",
       "      <td>the past.</td>\n",
       "      <td>9.0</td>\n",
       "    </tr>\n",
       "  </tbody>\n",
       "</table>\n",
       "<p>4718 rows × 2 columns</p>\n",
       "</div>"
      ],
      "text/plain": [
       "                                                   line_str  chap_num\n",
       "line_num                                                             \n",
       "57                                                        I       1.0\n",
       "59        In my younger and more vulnerable years my fat...       1.0\n",
       "60        that I’ve been turning over in my mind ever si...       1.0\n",
       "62        “Whenever you feel like criticizing anyone,” h...       1.0\n",
       "63        remember that all the people in this world hav...       1.0\n",
       "...                                                     ...       ...\n",
       "6420      year recedes before us. It eluded us then, but...       9.0\n",
       "6421      matter—tomorrow we will run faster, stretch ou...       9.0\n",
       "6422                                      one fine morning—       9.0\n",
       "6424      So we beat on, boats against the current, born...       9.0\n",
       "6425                                              the past.       9.0\n",
       "\n",
       "[4718 rows x 2 columns]"
      ]
     },
     "execution_count": 34,
     "metadata": {},
     "output_type": "execute_result"
    }
   ],
   "source": [
    "chap_nums = [i+1 for i in range(df.loc[chap_lines].shape[0])]\n",
    "df.loc[chap_lines, 'chap_num'] = chap_nums\n",
    "df.chap_num = df.chap_num.ffill() #forward fill the missing chapters\n",
    "df"
   ]
  },
  {
   "cell_type": "code",
   "execution_count": 35,
   "id": "precise-thousand",
   "metadata": {},
   "outputs": [
    {
     "data": {
      "text/html": [
       "<div>\n",
       "<style scoped>\n",
       "    .dataframe tbody tr th:only-of-type {\n",
       "        vertical-align: middle;\n",
       "    }\n",
       "\n",
       "    .dataframe tbody tr th {\n",
       "        vertical-align: top;\n",
       "    }\n",
       "\n",
       "    .dataframe thead th {\n",
       "        text-align: right;\n",
       "    }\n",
       "</style>\n",
       "<table border=\"1\" class=\"dataframe\">\n",
       "  <thead>\n",
       "    <tr style=\"text-align: right;\">\n",
       "      <th></th>\n",
       "      <th>line_str</th>\n",
       "      <th>chap_num</th>\n",
       "    </tr>\n",
       "    <tr>\n",
       "      <th>line_num</th>\n",
       "      <th></th>\n",
       "      <th></th>\n",
       "    </tr>\n",
       "  </thead>\n",
       "  <tbody>\n",
       "    <tr>\n",
       "      <th>59</th>\n",
       "      <td>In my younger and more vulnerable years my fat...</td>\n",
       "      <td>1</td>\n",
       "    </tr>\n",
       "    <tr>\n",
       "      <th>60</th>\n",
       "      <td>that I’ve been turning over in my mind ever si...</td>\n",
       "      <td>1</td>\n",
       "    </tr>\n",
       "    <tr>\n",
       "      <th>62</th>\n",
       "      <td>“Whenever you feel like criticizing anyone,” h...</td>\n",
       "      <td>1</td>\n",
       "    </tr>\n",
       "    <tr>\n",
       "      <th>63</th>\n",
       "      <td>remember that all the people in this world hav...</td>\n",
       "      <td>1</td>\n",
       "    </tr>\n",
       "    <tr>\n",
       "      <th>64</th>\n",
       "      <td>that you’ve had.”</td>\n",
       "      <td>1</td>\n",
       "    </tr>\n",
       "    <tr>\n",
       "      <th>...</th>\n",
       "      <td>...</td>\n",
       "      <td>...</td>\n",
       "    </tr>\n",
       "    <tr>\n",
       "      <th>6420</th>\n",
       "      <td>year recedes before us. It eluded us then, but...</td>\n",
       "      <td>9</td>\n",
       "    </tr>\n",
       "    <tr>\n",
       "      <th>6421</th>\n",
       "      <td>matter—tomorrow we will run faster, stretch ou...</td>\n",
       "      <td>9</td>\n",
       "    </tr>\n",
       "    <tr>\n",
       "      <th>6422</th>\n",
       "      <td>one fine morning—</td>\n",
       "      <td>9</td>\n",
       "    </tr>\n",
       "    <tr>\n",
       "      <th>6424</th>\n",
       "      <td>So we beat on, boats against the current, born...</td>\n",
       "      <td>9</td>\n",
       "    </tr>\n",
       "    <tr>\n",
       "      <th>6425</th>\n",
       "      <td>the past.</td>\n",
       "      <td>9</td>\n",
       "    </tr>\n",
       "  </tbody>\n",
       "</table>\n",
       "<p>4709 rows × 2 columns</p>\n",
       "</div>"
      ],
      "text/plain": [
       "                                                   line_str  chap_num\n",
       "line_num                                                             \n",
       "59        In my younger and more vulnerable years my fat...         1\n",
       "60        that I’ve been turning over in my mind ever si...         1\n",
       "62        “Whenever you feel like criticizing anyone,” h...         1\n",
       "63        remember that all the people in this world hav...         1\n",
       "64                                        that you’ve had.”         1\n",
       "...                                                     ...       ...\n",
       "6420      year recedes before us. It eluded us then, but...         9\n",
       "6421      matter—tomorrow we will run faster, stretch ou...         9\n",
       "6422                                      one fine morning—         9\n",
       "6424      So we beat on, boats against the current, born...         9\n",
       "6425                                              the past.         9\n",
       "\n",
       "[4709 rows x 2 columns]"
      ]
     },
     "execution_count": 35,
     "metadata": {},
     "output_type": "execute_result"
    }
   ],
   "source": [
    "#get rid of every row for which chapter number is NA, and get rid of every row with chapter number titles, then convert to integers\n",
    "df = df.loc[~df.chap_num.isna()] # Remove everything before Chapter 1\n",
    "df = df.loc[~chap_lines] # Remove chapter heading lines\n",
    "df.chap_num = df.chap_num.astype('int') # Convert chap_num from float to int\n",
    "\n",
    "df #df now has line_num, line_str, chap_num \n",
    "#we originally had line_num, line_str for df --> added chap_num"
   ]
  },
  {
   "cell_type": "markdown",
   "id": "fatty-constitutional",
   "metadata": {},
   "source": [
    "This table now tells us the line of every number, what the line contains (as a string), and what chapter it belongs to."
   ]
  },
  {
   "cell_type": "code",
   "execution_count": 36,
   "id": "australian-dayton",
   "metadata": {},
   "outputs": [],
   "source": [
    "df.to_csv('{}/Great-Gatsby-LINE-CHAPTER.csv'.format(data_out), index=True)"
   ]
  },
  {
   "cell_type": "markdown",
   "id": "following-throw",
   "metadata": {},
   "source": [
    "## Grouping the Dataframe by Different OHCO Levels\n"
   ]
  },
  {
   "cell_type": "code",
   "execution_count": 37,
   "id": "weird-guidance",
   "metadata": {},
   "outputs": [],
   "source": [
    "OHCO = ['chap_num', 'para_num', 'sent_num', 'token_num'] #defining an OHCO structure"
   ]
  },
  {
   "cell_type": "markdown",
   "id": "historic-municipality",
   "metadata": {},
   "source": [
    "### Group Lines by Chapter\n"
   ]
  },
  {
   "cell_type": "code",
   "execution_count": 38,
   "id": "heard-princeton",
   "metadata": {},
   "outputs": [],
   "source": [
    "#group by chapter number, take the line string, apply this function\n",
    "\n",
    "dfc = df.groupby(OHCO[:1]).line_str.apply(lambda x: '\\n'.join(x)).to_frame() # Make big string\n",
    "#dont have the new lines that preceed the follow\n",
    "\n",
    "#new dataframe for chapters\n",
    "dfc['line_str'] = dfc.line_str.str.strip()"
   ]
  },
  {
   "cell_type": "code",
   "execution_count": 39,
   "id": "enhanced-liabilities",
   "metadata": {},
   "outputs": [
    {
     "data": {
      "text/html": [
       "<div>\n",
       "<style scoped>\n",
       "    .dataframe tbody tr th:only-of-type {\n",
       "        vertical-align: middle;\n",
       "    }\n",
       "\n",
       "    .dataframe tbody tr th {\n",
       "        vertical-align: top;\n",
       "    }\n",
       "\n",
       "    .dataframe thead th {\n",
       "        text-align: right;\n",
       "    }\n",
       "</style>\n",
       "<table border=\"1\" class=\"dataframe\">\n",
       "  <thead>\n",
       "    <tr style=\"text-align: right;\">\n",
       "      <th></th>\n",
       "      <th>line_str</th>\n",
       "    </tr>\n",
       "    <tr>\n",
       "      <th>chap_num</th>\n",
       "      <th></th>\n",
       "    </tr>\n",
       "  </thead>\n",
       "  <tbody>\n",
       "    <tr>\n",
       "      <th>1</th>\n",
       "      <td>In my younger and more vulnerable years my fat...</td>\n",
       "    </tr>\n",
       "    <tr>\n",
       "      <th>2</th>\n",
       "      <td>About halfway between West Egg and New York th...</td>\n",
       "    </tr>\n",
       "    <tr>\n",
       "      <th>3</th>\n",
       "      <td>There was music from my neighbour’s house thro...</td>\n",
       "    </tr>\n",
       "    <tr>\n",
       "      <th>4</th>\n",
       "      <td>On Sunday morning while church bells rang in t...</td>\n",
       "    </tr>\n",
       "    <tr>\n",
       "      <th>5</th>\n",
       "      <td>When I came home to West Egg that night I was ...</td>\n",
       "    </tr>\n",
       "  </tbody>\n",
       "</table>\n",
       "</div>"
      ],
      "text/plain": [
       "                                                   line_str\n",
       "chap_num                                                   \n",
       "1         In my younger and more vulnerable years my fat...\n",
       "2         About halfway between West Egg and New York th...\n",
       "3         There was music from my neighbour’s house thro...\n",
       "4         On Sunday morning while church bells rang in t...\n",
       "5         When I came home to West Egg that night I was ..."
      ]
     },
     "execution_count": 39,
     "metadata": {},
     "output_type": "execute_result"
    }
   ],
   "source": [
    "dfc.head() #dfc is now chap_num, line_str\n",
    "#grouped line_str by the chapter"
   ]
  },
  {
   "cell_type": "code",
   "execution_count": 40,
   "id": "sufficient-logic",
   "metadata": {},
   "outputs": [],
   "source": [
    "dfc.to_csv('{}/Great-Gatsby-GROUP-LINES-BY-CHAPTER.csv'.format(data_out), index=True)"
   ]
  },
  {
   "cell_type": "code",
   "execution_count": 41,
   "id": "removed-township",
   "metadata": {},
   "outputs": [],
   "source": [
    "dfp = dfc['line_str'].str.split(r'\\n+', expand=True).stack().to_frame().rename(columns={0:'para_str'}) #split by double new line, expand=TRUE\n",
    "dfp.index.names = OHCO[:2] #renaming the column "
   ]
  },
  {
   "cell_type": "code",
   "execution_count": 42,
   "id": "portable-london",
   "metadata": {},
   "outputs": [
    {
     "name": "stderr",
     "output_type": "stream",
     "text": [
      "/Users/jasminedogu/opt/anaconda3/lib/python3.7/site-packages/ipykernel_launcher.py:1: FutureWarning: The default value of regex will change from True to False in a future version.\n",
      "  \"\"\"Entry point for launching an IPython kernel.\n"
     ]
    }
   ],
   "source": [
    "dfp['para_str'] = dfp['para_str'].str.replace(r'\\n', ' ').str.strip() #get rid of single new lines\n",
    "#take any blank lines, and get rid of it\n",
    "dfp = dfp[~dfp['para_str'].str.match(r'^\\s*$')] # Remove empty paragraphs"
   ]
  },
  {
   "cell_type": "code",
   "execution_count": 43,
   "id": "faced-substitute",
   "metadata": {},
   "outputs": [
    {
     "data": {
      "text/html": [
       "<div>\n",
       "<style scoped>\n",
       "    .dataframe tbody tr th:only-of-type {\n",
       "        vertical-align: middle;\n",
       "    }\n",
       "\n",
       "    .dataframe tbody tr th {\n",
       "        vertical-align: top;\n",
       "    }\n",
       "\n",
       "    .dataframe thead th {\n",
       "        text-align: right;\n",
       "    }\n",
       "</style>\n",
       "<table border=\"1\" class=\"dataframe\">\n",
       "  <thead>\n",
       "    <tr style=\"text-align: right;\">\n",
       "      <th></th>\n",
       "      <th></th>\n",
       "      <th>para_str</th>\n",
       "    </tr>\n",
       "    <tr>\n",
       "      <th>chap_num</th>\n",
       "      <th>para_num</th>\n",
       "      <th></th>\n",
       "    </tr>\n",
       "  </thead>\n",
       "  <tbody>\n",
       "    <tr>\n",
       "      <th rowspan=\"5\" valign=\"top\">1</th>\n",
       "      <th>0</th>\n",
       "      <td>In my younger and more vulnerable years my fat...</td>\n",
       "    </tr>\n",
       "    <tr>\n",
       "      <th>1</th>\n",
       "      <td>that I’ve been turning over in my mind ever si...</td>\n",
       "    </tr>\n",
       "    <tr>\n",
       "      <th>2</th>\n",
       "      <td>“Whenever you feel like criticizing anyone,” h...</td>\n",
       "    </tr>\n",
       "    <tr>\n",
       "      <th>3</th>\n",
       "      <td>remember that all the people in this world hav...</td>\n",
       "    </tr>\n",
       "    <tr>\n",
       "      <th>4</th>\n",
       "      <td>that you’ve had.”</td>\n",
       "    </tr>\n",
       "    <tr>\n",
       "      <th>...</th>\n",
       "      <th>...</th>\n",
       "      <td>...</td>\n",
       "    </tr>\n",
       "    <tr>\n",
       "      <th rowspan=\"5\" valign=\"top\">9</th>\n",
       "      <th>494</th>\n",
       "      <td>year recedes before us. It eluded us then, but...</td>\n",
       "    </tr>\n",
       "    <tr>\n",
       "      <th>495</th>\n",
       "      <td>matter—tomorrow we will run faster, stretch ou...</td>\n",
       "    </tr>\n",
       "    <tr>\n",
       "      <th>496</th>\n",
       "      <td>one fine morning—</td>\n",
       "    </tr>\n",
       "    <tr>\n",
       "      <th>497</th>\n",
       "      <td>So we beat on, boats against the current, born...</td>\n",
       "    </tr>\n",
       "    <tr>\n",
       "      <th>498</th>\n",
       "      <td>the past.</td>\n",
       "    </tr>\n",
       "  </tbody>\n",
       "</table>\n",
       "<p>4709 rows × 1 columns</p>\n",
       "</div>"
      ],
      "text/plain": [
       "                                                            para_str\n",
       "chap_num para_num                                                   \n",
       "1        0         In my younger and more vulnerable years my fat...\n",
       "         1         that I’ve been turning over in my mind ever si...\n",
       "         2         “Whenever you feel like criticizing anyone,” h...\n",
       "         3         remember that all the people in this world hav...\n",
       "         4                                         that you’ve had.”\n",
       "...                                                              ...\n",
       "9        494       year recedes before us. It eluded us then, but...\n",
       "         495       matter—tomorrow we will run faster, stretch ou...\n",
       "         496                                       one fine morning—\n",
       "         497       So we beat on, boats against the current, born...\n",
       "         498                                               the past.\n",
       "\n",
       "[4709 rows x 1 columns]"
      ]
     },
     "execution_count": 43,
     "metadata": {},
     "output_type": "execute_result"
    }
   ],
   "source": [
    "dfp"
   ]
  },
  {
   "cell_type": "code",
   "execution_count": 44,
   "id": "completed-confirmation",
   "metadata": {},
   "outputs": [],
   "source": [
    "dfp.to_csv('{}/Great-Gatsby-GROUP-LINES-BY-PARAGRAPH.csv'.format(data_out), index=True)"
   ]
  },
  {
   "cell_type": "code",
   "execution_count": 45,
   "id": "geographic-williams",
   "metadata": {},
   "outputs": [],
   "source": [
    "#split chapters into paragraphs already, now split paragraphs into sentences\n",
    "\n",
    "# sent_pat = r'[.?!;:\"]+'\n",
    "sent_pat = r'[.?!;:]+' #defining a character class here, saying that one or more instance of any of these guys represents a sentencee\n",
    "\n",
    "#do the same thing we did before \n",
    "\n",
    "dfs = dfp['para_str'].str.split(sent_pat, expand=True).stack()\\\n",
    "    .to_frame().rename(columns={0:'sent_str'})\n",
    "\n",
    "dfs.index.names = OHCO[:3] #renaming the column\n",
    "\n",
    "dfs = dfs[~dfs['sent_str'].str.match(r'^\\s*$')] # Remove empty paragraphs"
   ]
  },
  {
   "cell_type": "code",
   "execution_count": 46,
   "id": "periodic-blogger",
   "metadata": {},
   "outputs": [
    {
     "data": {
      "text/html": [
       "<div>\n",
       "<style scoped>\n",
       "    .dataframe tbody tr th:only-of-type {\n",
       "        vertical-align: middle;\n",
       "    }\n",
       "\n",
       "    .dataframe tbody tr th {\n",
       "        vertical-align: top;\n",
       "    }\n",
       "\n",
       "    .dataframe thead th {\n",
       "        text-align: right;\n",
       "    }\n",
       "</style>\n",
       "<table border=\"1\" class=\"dataframe\">\n",
       "  <thead>\n",
       "    <tr style=\"text-align: right;\">\n",
       "      <th></th>\n",
       "      <th></th>\n",
       "      <th></th>\n",
       "      <th>sent_str</th>\n",
       "    </tr>\n",
       "    <tr>\n",
       "      <th>chap_num</th>\n",
       "      <th>para_num</th>\n",
       "      <th>sent_num</th>\n",
       "      <th></th>\n",
       "    </tr>\n",
       "  </thead>\n",
       "  <tbody>\n",
       "    <tr>\n",
       "      <th rowspan=\"5\" valign=\"top\">1</th>\n",
       "      <th>0</th>\n",
       "      <th>0</th>\n",
       "      <td>In my younger and more vulnerable years my fat...</td>\n",
       "    </tr>\n",
       "    <tr>\n",
       "      <th>1</th>\n",
       "      <th>0</th>\n",
       "      <td>that I’ve been turning over in my mind ever since</td>\n",
       "    </tr>\n",
       "    <tr>\n",
       "      <th>2</th>\n",
       "      <th>0</th>\n",
       "      <td>“Whenever you feel like criticizing anyone,” h...</td>\n",
       "    </tr>\n",
       "    <tr>\n",
       "      <th>3</th>\n",
       "      <th>0</th>\n",
       "      <td>remember that all the people in this world hav...</td>\n",
       "    </tr>\n",
       "    <tr>\n",
       "      <th>4</th>\n",
       "      <th>0</th>\n",
       "      <td>that you’ve had</td>\n",
       "    </tr>\n",
       "    <tr>\n",
       "      <th>...</th>\n",
       "      <th>...</th>\n",
       "      <th>...</th>\n",
       "      <td>...</td>\n",
       "    </tr>\n",
       "    <tr>\n",
       "      <th rowspan=\"5\" valign=\"top\">9</th>\n",
       "      <th>494</th>\n",
       "      <th>1</th>\n",
       "      <td>It eluded us then, but that’s no</td>\n",
       "    </tr>\n",
       "    <tr>\n",
       "      <th>495</th>\n",
       "      <th>0</th>\n",
       "      <td>matter—tomorrow we will run faster, stretch ou...</td>\n",
       "    </tr>\n",
       "    <tr>\n",
       "      <th>496</th>\n",
       "      <th>0</th>\n",
       "      <td>one fine morning—</td>\n",
       "    </tr>\n",
       "    <tr>\n",
       "      <th>497</th>\n",
       "      <th>0</th>\n",
       "      <td>So we beat on, boats against the current, born...</td>\n",
       "    </tr>\n",
       "    <tr>\n",
       "      <th>498</th>\n",
       "      <th>0</th>\n",
       "      <td>the past</td>\n",
       "    </tr>\n",
       "  </tbody>\n",
       "</table>\n",
       "<p>7524 rows × 1 columns</p>\n",
       "</div>"
      ],
      "text/plain": [
       "                                                                     sent_str\n",
       "chap_num para_num sent_num                                                   \n",
       "1        0        0         In my younger and more vulnerable years my fat...\n",
       "         1        0         that I’ve been turning over in my mind ever since\n",
       "         2        0         “Whenever you feel like criticizing anyone,” h...\n",
       "         3        0         remember that all the people in this world hav...\n",
       "         4        0                                           that you’ve had\n",
       "...                                                                       ...\n",
       "9        494      1                          It eluded us then, but that’s no\n",
       "         495      0         matter—tomorrow we will run faster, stretch ou...\n",
       "         496      0                                         one fine morning—\n",
       "         497      0         So we beat on, boats against the current, born...\n",
       "         498      0                                                  the past\n",
       "\n",
       "[7524 rows x 1 columns]"
      ]
     },
     "execution_count": 46,
     "metadata": {},
     "output_type": "execute_result"
    }
   ],
   "source": [
    "dfs"
   ]
  },
  {
   "cell_type": "code",
   "execution_count": 47,
   "id": "dominican-citation",
   "metadata": {},
   "outputs": [],
   "source": [
    "dfs.to_csv('{}/Great-Gatsby-GROUP-LINES-BY-SENTENCE.csv'.format(data_out), index=True)"
   ]
  },
  {
   "cell_type": "markdown",
   "id": "southwest-combination",
   "metadata": {},
   "source": [
    "### Group Lines by Token"
   ]
  },
  {
   "cell_type": "code",
   "execution_count": 48,
   "id": "strange-basement",
   "metadata": {},
   "outputs": [],
   "source": [
    "#final parsing\n",
    "#character class that includes all forms of white space, commas, hyphens\n",
    "#can create a function (delim and ohco level as argument)\n",
    "token_pat = r\"[\\s',-]+\"\n",
    "dft = dfs['sent_str'].str.split(token_pat, expand=True).stack()\\\n",
    "    .to_frame().rename(columns={0:'token_str'})\n",
    "dft.index.names = OHCO[:4] #rename the column"
   ]
  },
  {
   "cell_type": "code",
   "execution_count": 49,
   "id": "unknown-westminster",
   "metadata": {},
   "outputs": [
    {
     "name": "stderr",
     "output_type": "stream",
     "text": [
      "/Users/jasminedogu/opt/anaconda3/lib/python3.7/site-packages/ipykernel_launcher.py:11: FutureWarning: The default value of regex will change from True to False in a future version.\n",
      "  # This is added back by InteractiveShellApp.init_path()\n"
     ]
    }
   ],
   "source": [
    "#can recover to some degree what we deconstructed through parsing\n",
    "#recover using same pattern of group by, join together with blank spaces\n",
    "sents = dft.groupby(OHCO[:3]).token_str.apply(lambda x: ' '.join(x)).to_frame().rename(columns={'token_str':'content'})\n",
    "paras = dft.groupby(OHCO[:2]).token_str.apply(lambda x: ' '.join(x)).to_frame().rename(columns={'token_str':'content'})\n",
    "chaps = dft.groupby(OHCO[:1]).token_str.apply(lambda x: ' '.join(x)).to_frame().rename(columns={'token_str':'content'})\n",
    "\n",
    "#Normalizing Tokens\n",
    "#theres a function for this in last weeks lab \n",
    "\n",
    "#extract a unique set of tokens by first normalizing them (term id) then use a value counts method \n",
    "dft['term_str'] = dft['token_str'].str.lower().str.replace(r'[\\W_]', '').dropna()\n",
    "\n",
    "#created a generalized function for that here \n",
    "\n",
    "def gather(ohco_level):\n",
    "    return df.groupby(OHCO[:ohco_level]).token_str\\\n",
    "        .apply(lambda x: ' '.join(x))\\\n",
    "        .to_frame()\\\n",
    "        .rename(columns={'token_str':'content'})"
   ]
  },
  {
   "cell_type": "code",
   "execution_count": 50,
   "id": "comfortable-array",
   "metadata": {},
   "outputs": [
    {
     "data": {
      "text/html": [
       "<div>\n",
       "<style scoped>\n",
       "    .dataframe tbody tr th:only-of-type {\n",
       "        vertical-align: middle;\n",
       "    }\n",
       "\n",
       "    .dataframe tbody tr th {\n",
       "        vertical-align: top;\n",
       "    }\n",
       "\n",
       "    .dataframe thead th {\n",
       "        text-align: right;\n",
       "    }\n",
       "</style>\n",
       "<table border=\"1\" class=\"dataframe\">\n",
       "  <thead>\n",
       "    <tr style=\"text-align: right;\">\n",
       "      <th></th>\n",
       "      <th></th>\n",
       "      <th></th>\n",
       "      <th></th>\n",
       "      <th>token_str</th>\n",
       "      <th>term_str</th>\n",
       "    </tr>\n",
       "    <tr>\n",
       "      <th>chap_num</th>\n",
       "      <th>para_num</th>\n",
       "      <th>sent_num</th>\n",
       "      <th>token_num</th>\n",
       "      <th></th>\n",
       "      <th></th>\n",
       "    </tr>\n",
       "  </thead>\n",
       "  <tbody>\n",
       "    <tr>\n",
       "      <th rowspan=\"5\" valign=\"top\">1</th>\n",
       "      <th rowspan=\"5\" valign=\"top\">0</th>\n",
       "      <th rowspan=\"5\" valign=\"top\">0</th>\n",
       "      <th>0</th>\n",
       "      <td>In</td>\n",
       "      <td>in</td>\n",
       "    </tr>\n",
       "    <tr>\n",
       "      <th>1</th>\n",
       "      <td>my</td>\n",
       "      <td>my</td>\n",
       "    </tr>\n",
       "    <tr>\n",
       "      <th>2</th>\n",
       "      <td>younger</td>\n",
       "      <td>younger</td>\n",
       "    </tr>\n",
       "    <tr>\n",
       "      <th>3</th>\n",
       "      <td>and</td>\n",
       "      <td>and</td>\n",
       "    </tr>\n",
       "    <tr>\n",
       "      <th>4</th>\n",
       "      <td>more</td>\n",
       "      <td>more</td>\n",
       "    </tr>\n",
       "    <tr>\n",
       "      <th>...</th>\n",
       "      <th>...</th>\n",
       "      <th>...</th>\n",
       "      <th>...</th>\n",
       "      <td>...</td>\n",
       "      <td>...</td>\n",
       "    </tr>\n",
       "    <tr>\n",
       "      <th rowspan=\"5\" valign=\"top\">9</th>\n",
       "      <th rowspan=\"3\" valign=\"top\">497</th>\n",
       "      <th rowspan=\"3\" valign=\"top\">0</th>\n",
       "      <th>9</th>\n",
       "      <td>back</td>\n",
       "      <td>back</td>\n",
       "    </tr>\n",
       "    <tr>\n",
       "      <th>10</th>\n",
       "      <td>ceaselessly</td>\n",
       "      <td>ceaselessly</td>\n",
       "    </tr>\n",
       "    <tr>\n",
       "      <th>11</th>\n",
       "      <td>into</td>\n",
       "      <td>into</td>\n",
       "    </tr>\n",
       "    <tr>\n",
       "      <th rowspan=\"2\" valign=\"top\">498</th>\n",
       "      <th rowspan=\"2\" valign=\"top\">0</th>\n",
       "      <th>0</th>\n",
       "      <td>the</td>\n",
       "      <td>the</td>\n",
       "    </tr>\n",
       "    <tr>\n",
       "      <th>1</th>\n",
       "      <td>past</td>\n",
       "      <td>past</td>\n",
       "    </tr>\n",
       "  </tbody>\n",
       "</table>\n",
       "<p>51765 rows × 2 columns</p>\n",
       "</div>"
      ],
      "text/plain": [
       "                                        token_str     term_str\n",
       "chap_num para_num sent_num token_num                          \n",
       "1        0        0        0                   In           in\n",
       "                           1                   my           my\n",
       "                           2              younger      younger\n",
       "                           3                  and          and\n",
       "                           4                 more         more\n",
       "...                                           ...          ...\n",
       "9        497      0        9                 back         back\n",
       "                           10         ceaselessly  ceaselessly\n",
       "                           11                into         into\n",
       "         498      0        0                  the          the\n",
       "                           1                 past         past\n",
       "\n",
       "[51765 rows x 2 columns]"
      ]
     },
     "execution_count": 50,
     "metadata": {},
     "output_type": "execute_result"
    }
   ],
   "source": [
    "dft"
   ]
  },
  {
   "cell_type": "code",
   "execution_count": 51,
   "id": "resident-radius",
   "metadata": {},
   "outputs": [],
   "source": [
    "dft.to_csv('{}/Great-Gatsby-GROUP-LINES-BY-TOKEN.csv'.format(data_out), index=True)"
   ]
  },
  {
   "cell_type": "markdown",
   "id": "tested-burst",
   "metadata": {},
   "source": [
    "## Unigram Model"
   ]
  },
  {
   "cell_type": "code",
   "execution_count": 52,
   "id": "continuous-morning",
   "metadata": {},
   "outputs": [],
   "source": [
    "n_tokens = VOCAB.n.sum()\n",
    "n_terms = VOCAB.n.count() # same as vocab.shape[0]\n",
    "VOCAB['p'] = VOCAB['n'] / n_tokens\n",
    "VOCAB['p2'] = VOCAB['n'] / n_terms # Some sources say to do this, but it makes no sense\n",
    "VOCAB['i'] = np.log2(1/VOCAB['p']) #information\n",
    "VOCAB['h'] = VOCAB['p'] * VOCAB['i'] \n",
    "VOCAB['log_p'] = np.log2(VOCAB['p'])"
   ]
  },
  {
   "cell_type": "code",
   "execution_count": 53,
   "id": "finnish-graphics",
   "metadata": {},
   "outputs": [
    {
     "data": {
      "text/plain": [
       "51261"
      ]
     },
     "execution_count": 53,
     "metadata": {},
     "output_type": "execute_result"
    }
   ],
   "source": [
    "n_tokens"
   ]
  },
  {
   "cell_type": "code",
   "execution_count": 54,
   "id": "narrative-folks",
   "metadata": {},
   "outputs": [
    {
     "data": {
      "text/plain": [
       "6660"
      ]
     },
     "execution_count": 54,
     "metadata": {},
     "output_type": "execute_result"
    }
   ],
   "source": [
    "n_terms"
   ]
  },
  {
   "cell_type": "code",
   "execution_count": 55,
   "id": "basic-poker",
   "metadata": {},
   "outputs": [
    {
     "data": {
      "text/html": [
       "<div>\n",
       "<style scoped>\n",
       "    .dataframe tbody tr th:only-of-type {\n",
       "        vertical-align: middle;\n",
       "    }\n",
       "\n",
       "    .dataframe tbody tr th {\n",
       "        vertical-align: top;\n",
       "    }\n",
       "\n",
       "    .dataframe thead th {\n",
       "        text-align: right;\n",
       "    }\n",
       "</style>\n",
       "<table border=\"1\" class=\"dataframe\">\n",
       "  <thead>\n",
       "    <tr style=\"text-align: right;\">\n",
       "      <th></th>\n",
       "      <th>n</th>\n",
       "      <th>p</th>\n",
       "      <th>p2</th>\n",
       "      <th>i</th>\n",
       "      <th>h</th>\n",
       "      <th>log_p</th>\n",
       "    </tr>\n",
       "    <tr>\n",
       "      <th>term_str</th>\n",
       "      <th></th>\n",
       "      <th></th>\n",
       "      <th></th>\n",
       "      <th></th>\n",
       "      <th></th>\n",
       "      <th></th>\n",
       "    </tr>\n",
       "  </thead>\n",
       "  <tbody>\n",
       "    <tr>\n",
       "      <th>the</th>\n",
       "      <td>2573</td>\n",
       "      <td>0.050194</td>\n",
       "      <td>0.386336</td>\n",
       "      <td>4.316338</td>\n",
       "      <td>0.216655</td>\n",
       "      <td>-4.316338</td>\n",
       "    </tr>\n",
       "    <tr>\n",
       "      <th>and</th>\n",
       "      <td>1594</td>\n",
       "      <td>0.031096</td>\n",
       "      <td>0.239339</td>\n",
       "      <td>5.007138</td>\n",
       "      <td>0.155701</td>\n",
       "      <td>-5.007138</td>\n",
       "    </tr>\n",
       "    <tr>\n",
       "      <th>a</th>\n",
       "      <td>1451</td>\n",
       "      <td>0.028306</td>\n",
       "      <td>0.217868</td>\n",
       "      <td>5.142742</td>\n",
       "      <td>0.145571</td>\n",
       "      <td>-5.142742</td>\n",
       "    </tr>\n",
       "    <tr>\n",
       "      <th>of</th>\n",
       "      <td>1233</td>\n",
       "      <td>0.024053</td>\n",
       "      <td>0.185135</td>\n",
       "      <td>5.377617</td>\n",
       "      <td>0.129350</td>\n",
       "      <td>-5.377617</td>\n",
       "    </tr>\n",
       "    <tr>\n",
       "      <th>to</th>\n",
       "      <td>1209</td>\n",
       "      <td>0.023585</td>\n",
       "      <td>0.181532</td>\n",
       "      <td>5.405975</td>\n",
       "      <td>0.127501</td>\n",
       "      <td>-5.405975</td>\n",
       "    </tr>\n",
       "    <tr>\n",
       "      <th>i</th>\n",
       "      <td>1180</td>\n",
       "      <td>0.023019</td>\n",
       "      <td>0.177177</td>\n",
       "      <td>5.441003</td>\n",
       "      <td>0.125249</td>\n",
       "      <td>-5.441003</td>\n",
       "    </tr>\n",
       "    <tr>\n",
       "      <th>in</th>\n",
       "      <td>861</td>\n",
       "      <td>0.016796</td>\n",
       "      <td>0.129279</td>\n",
       "      <td>5.895705</td>\n",
       "      <td>0.099027</td>\n",
       "      <td>-5.895705</td>\n",
       "    </tr>\n",
       "    <tr>\n",
       "      <th>he</th>\n",
       "      <td>797</td>\n",
       "      <td>0.015548</td>\n",
       "      <td>0.119670</td>\n",
       "      <td>6.007138</td>\n",
       "      <td>0.093398</td>\n",
       "      <td>-6.007138</td>\n",
       "    </tr>\n",
       "    <tr>\n",
       "      <th>was</th>\n",
       "      <td>766</td>\n",
       "      <td>0.014943</td>\n",
       "      <td>0.115015</td>\n",
       "      <td>6.064373</td>\n",
       "      <td>0.090621</td>\n",
       "      <td>-6.064373</td>\n",
       "    </tr>\n",
       "    <tr>\n",
       "      <th>that</th>\n",
       "      <td>596</td>\n",
       "      <td>0.011627</td>\n",
       "      <td>0.089489</td>\n",
       "      <td>6.426405</td>\n",
       "      <td>0.074718</td>\n",
       "      <td>-6.426405</td>\n",
       "    </tr>\n",
       "  </tbody>\n",
       "</table>\n",
       "</div>"
      ],
      "text/plain": [
       "             n         p        p2         i         h     log_p\n",
       "term_str                                                        \n",
       "the       2573  0.050194  0.386336  4.316338  0.216655 -4.316338\n",
       "and       1594  0.031096  0.239339  5.007138  0.155701 -5.007138\n",
       "a         1451  0.028306  0.217868  5.142742  0.145571 -5.142742\n",
       "of        1233  0.024053  0.185135  5.377617  0.129350 -5.377617\n",
       "to        1209  0.023585  0.181532  5.405975  0.127501 -5.405975\n",
       "i         1180  0.023019  0.177177  5.441003  0.125249 -5.441003\n",
       "in         861  0.016796  0.129279  5.895705  0.099027 -5.895705\n",
       "he         797  0.015548  0.119670  6.007138  0.093398 -6.007138\n",
       "was        766  0.014943  0.115015  6.064373  0.090621 -6.064373\n",
       "that       596  0.011627  0.089489  6.426405  0.074718 -6.426405"
      ]
     },
     "execution_count": 55,
     "metadata": {},
     "output_type": "execute_result"
    }
   ],
   "source": [
    "VOCAB.sort_values('p', ascending=False).head(10)"
   ]
  },
  {
   "cell_type": "markdown",
   "id": "written-tradition",
   "metadata": {},
   "source": [
    "Here, we can look at certain information of the term_str like the token count, probability, information, etc."
   ]
  },
  {
   "cell_type": "code",
   "execution_count": 56,
   "id": "aggressive-pilot",
   "metadata": {},
   "outputs": [],
   "source": [
    "smooth = VOCAB['p'].min()\n",
    "def predict_sentence(sent_str):\n",
    "    \n",
    "    # Parse sentence into tokens and normalize string\n",
    "    tokens = pd.DataFrame(sent_str.lower().split(), columns=['term_str'])\n",
    "    \n",
    "    # Link the tokens with model vocabulary\n",
    "    tokens = tokens.merge(VOCAB, on='term_str', how='left') # Left join is key\n",
    "    \n",
    "    # Add minimum values where token is not in our vocabulary\n",
    "    tokens.loc[tokens['p'].isna(), 'p'] = [smooth]\n",
    "    \n",
    "    # Compute probability of sentence by getting product of token probabilities\n",
    "    p = tokens['p'].product()\n",
    "        \n",
    "    # Print results\n",
    "    print(\"p('{}') = {}\".format(sent_str, p))"
   ]
  },
  {
   "cell_type": "code",
   "execution_count": 57,
   "id": "reported-touch",
   "metadata": {},
   "outputs": [
    {
     "name": "stdout",
     "output_type": "stream",
     "text": [
      "p('old sport') = 1.484573834952588e-06\n",
      "p('the east egg') = 1.3868043155633206e-08\n",
      "p('I want to') = 6.248835576240858e-07\n",
      "p('Daisy said to') = 3.074244000600771e-07\n",
      "p('said to her') = 8.197984001602056e-07\n",
      "p('said to him') = 5.709310286830003e-07\n"
     ]
    }
   ],
   "source": [
    "predict_sentence('old sport')\n",
    "predict_sentence('the east egg')\n",
    "predict_sentence(\"I want to\")\n",
    "predict_sentence(\"Daisy said to\")\n",
    "predict_sentence(\"said to her\")\n",
    "predict_sentence('said to him')"
   ]
  },
  {
   "cell_type": "markdown",
   "id": "israeli-appearance",
   "metadata": {},
   "source": [
    "We can look at the probability of certain sentences appearing in the novel above. Some of these phrases, like the phrase \"old sport\", were used in the novel whereas other phrases like \"I want to\", were random ones I placed in there out of curosity. Therefore, it makes sense that the phrase \"old sport\" has a greater probability than \"I want to\" or \"said to him\", which weren't guaranteed to be in the novel. "
   ]
  },
  {
   "cell_type": "markdown",
   "id": "proper-abuse",
   "metadata": {},
   "source": [
    "Entropy is sometimes also called \"Shannon Entropy\" and as we discussed in lecture, there are many ways to think of entropy. I have copied over all of the ways from our lecture below:\n",
    "\n",
    "- As property of the probability distribution of a random variable (RV)\n",
    "- As degree of uncertainty (in the outcome of an RV)\n",
    "- As degree of equiprobability, i.e. maximum entropy = equiprobability\n",
    "- As average minimum message length of re-encoded messages\n",
    "- As average number of decisions to produce an outcome\n",
    "- As size of search space of the possible values\n",
    "- As surprisal -- how surprised we are to get a result\n",
    "\n",
    "Simply put, entropy is the level of uncertainty. We will see the entropy of our models below."
   ]
  },
  {
   "cell_type": "code",
   "execution_count": 58,
   "id": "flying-genius",
   "metadata": {},
   "outputs": [
    {
     "data": {
      "text/plain": [
       "9.503435629896002"
      ]
     },
     "execution_count": 58,
     "metadata": {},
     "output_type": "execute_result"
    }
   ],
   "source": [
    "#Entropy of the model\n",
    "\n",
    "H = VOCAB.h.sum() #entropy of the model \n",
    "H"
   ]
  },
  {
   "cell_type": "markdown",
   "id": "turned-blood",
   "metadata": {},
   "source": [
    "Before, we looked at the entropy of all of our models that we generated. Here, we are looking at the entropy of the entire model, which is around 9.50%. This is a relatively low entropy, meaning there is low surprisal for the results. "
   ]
  },
  {
   "cell_type": "markdown",
   "id": "olympic-williams",
   "metadata": {},
   "source": [
    "Entropy is sensitive to symbol set size, so we look at Redundancy. Redundancy is a normalizing measure given by the formula `R(X) = 1 − H(X) / HMAX(X)`."
   ]
  },
  {
   "cell_type": "code",
   "execution_count": 59,
   "id": "personal-talent",
   "metadata": {},
   "outputs": [
    {
     "data": {
      "text/plain": [
       "25.0"
      ]
     },
     "execution_count": 59,
     "metadata": {},
     "output_type": "execute_result"
    }
   ],
   "source": [
    "#Redundancy of the model \n",
    "Hmax = np.log2(n_terms)\n",
    "R = 1 - (H/Hmax) #more normalized version of the entropy \n",
    "\n",
    "round(R, 2) * 100 #30% which is lower than Shannons estimate for english in general\n",
    "\n",
    "#higher the redundancy the lower the entropy \n"
   ]
  },
  {
   "cell_type": "markdown",
   "id": "divided-renaissance",
   "metadata": {},
   "source": [
    "So, the redundancy of Gatsby's English from theis novel $R_{Gatsby}$ is $25\\%$. Shannon estimated the redundancy of English $R_{english}$ to be $54\\%$ (see Shannon 1953 in the Readings). Therefore, Gatsby is less redundant than the English language. "
   ]
  },
  {
   "cell_type": "markdown",
   "id": "reliable-venue",
   "metadata": {},
   "source": [
    "## Predicting Sentences using Unigram"
   ]
  },
  {
   "cell_type": "code",
   "execution_count": 60,
   "id": "pursuant-worker",
   "metadata": {},
   "outputs": [],
   "source": [
    "import re\n",
    "\n",
    "def predict_sentence(sent_str, smooth = .5):\n",
    "        \n",
    "    # Parse sentence into tokens and normalize string\n",
    "    S = sent_str.lower().split()\n",
    "    S = [re.sub(r'[\\W_]+', '', s) for s in S]\n",
    "    N = len(S)\n",
    "    \n",
    "    # Handle out of vocabulary words\n",
    "    OOV = [(w, smooth) for w in list(set(S) - set(VOCAB.index))]\n",
    "    if len(OOV) > 0:\n",
    "        V = VOCAB[['n']].append(pd.DataFrame(OOV, columns=['term_str','n']).set_index('term_str'))\n",
    "        V['p'] = V.n / V.n.sum()\n",
    "    else:\n",
    "        V = VOCAB[['n','p']]   \n",
    "    \n",
    "    # Create dataframe of tokens from sentence\n",
    "    tokens = pd.DataFrame(S, columns=['term_str']).set_index('term_str')\n",
    "    \n",
    "    # Link the tokens with model vocabulary\n",
    "    tokens = tokens.merge(V, on='term_str')\n",
    "    \n",
    "    # Compute probability of sentence by getting product of token probabilities\n",
    "    p = tokens['p'].product()\n",
    "#     p = np.exp(np.log(tokens.p).sum()) # Same as above\n",
    "    \n",
    "    # Convert to perplexity\n",
    "    pp = round(p**(-1/N)) \n",
    "            \n",
    "    return (sent_str, p, pp)"
   ]
  },
  {
   "cell_type": "code",
   "execution_count": 61,
   "id": "suffering-alliance",
   "metadata": {},
   "outputs": [
    {
     "data": {
      "text/html": [
       "<style  type=\"text/css\" >\n",
       "#T_9f812_row0_col1,#T_9f812_row6_col2{\n",
       "            background-color:  #023858;\n",
       "            color:  #f1f1f1;\n",
       "        }#T_9f812_row0_col2,#T_9f812_row6_col1{\n",
       "            background-color:  #fff7fb;\n",
       "            color:  #000000;\n",
       "        }#T_9f812_row1_col1{\n",
       "            background-color:  #045e94;\n",
       "            color:  #f1f1f1;\n",
       "        }#T_9f812_row1_col2{\n",
       "            background-color:  #fdf5fa;\n",
       "            color:  #000000;\n",
       "        }#T_9f812_row2_col1{\n",
       "            background-color:  #04649e;\n",
       "            color:  #f1f1f1;\n",
       "        }#T_9f812_row2_col2{\n",
       "            background-color:  #fcf4fa;\n",
       "            color:  #000000;\n",
       "        }#T_9f812_row3_col1{\n",
       "            background-color:  #0f76b3;\n",
       "            color:  #f1f1f1;\n",
       "        }#T_9f812_row3_col2{\n",
       "            background-color:  #faf3f9;\n",
       "            color:  #000000;\n",
       "        }#T_9f812_row4_col1{\n",
       "            background-color:  #4697c4;\n",
       "            color:  #000000;\n",
       "        }#T_9f812_row4_col2{\n",
       "            background-color:  #f6eff7;\n",
       "            color:  #000000;\n",
       "        }#T_9f812_row5_col1{\n",
       "            background-color:  #f4edf6;\n",
       "            color:  #000000;\n",
       "        }#T_9f812_row5_col2{\n",
       "            background-color:  #63a2cb;\n",
       "            color:  #000000;\n",
       "        }</style><table id=\"T_9f812_\" ><thead>    <tr>        <th class=\"blank level0\" ></th>        <th class=\"col_heading level0 col0\" >token</th>        <th class=\"col_heading level0 col1\" >p</th>        <th class=\"col_heading level0 col2\" >pp</th>    </tr></thead><tbody>\n",
       "                <tr>\n",
       "                        <th id=\"T_9f812_level0_row0\" class=\"row_heading level0 row0\" >5</th>\n",
       "                        <td id=\"T_9f812_row0_col0\" class=\"data row0 col0\" >said</td>\n",
       "                        <td id=\"T_9f812_row0_col1\" class=\"data row0 col1\" >0.004545</td>\n",
       "                        <td id=\"T_9f812_row0_col2\" class=\"data row0 col2\" >220</td>\n",
       "            </tr>\n",
       "            <tr>\n",
       "                        <th id=\"T_9f812_level0_row1\" class=\"row_heading level0 row1\" >6</th>\n",
       "                        <td id=\"T_9f812_row1_col0\" class=\"data row1 col0\" >we</td>\n",
       "                        <td id=\"T_9f812_row1_col1\" class=\"data row1 col1\" >0.003921</td>\n",
       "                        <td id=\"T_9f812_row1_col2\" class=\"data row1 col2\" >255</td>\n",
       "            </tr>\n",
       "            <tr>\n",
       "                        <th id=\"T_9f812_level0_row2\" class=\"row_heading level0 row2\" >0</th>\n",
       "                        <td id=\"T_9f812_row2_col0\" class=\"data row2 col0\" >gatsby </td>\n",
       "                        <td id=\"T_9f812_row2_col1\" class=\"data row2 col1\" >0.003785</td>\n",
       "                        <td id=\"T_9f812_row2_col2\" class=\"data row2 col2\" >264</td>\n",
       "            </tr>\n",
       "            <tr>\n",
       "                        <th id=\"T_9f812_level0_row3\" class=\"row_heading level0 row3\" >4</th>\n",
       "                        <td id=\"T_9f812_row3_col0\" class=\"data row3 col0\" >tom </td>\n",
       "                        <td id=\"T_9f812_row3_col1\" class=\"data row3 col1\" >0.003414</td>\n",
       "                        <td id=\"T_9f812_row3_col2\" class=\"data row3 col2\" >293</td>\n",
       "            </tr>\n",
       "            <tr>\n",
       "                        <th id=\"T_9f812_level0_row4\" class=\"row_heading level0 row4\" >3</th>\n",
       "                        <td id=\"T_9f812_row4_col0\" class=\"data row4 col0\" >daisy</td>\n",
       "                        <td id=\"T_9f812_row4_col1\" class=\"data row4 col1\" >0.002868</td>\n",
       "                        <td id=\"T_9f812_row4_col2\" class=\"data row4 col2\" >349</td>\n",
       "            </tr>\n",
       "            <tr>\n",
       "                        <th id=\"T_9f812_level0_row5\" class=\"row_heading level0 row5\" >1</th>\n",
       "                        <td id=\"T_9f812_row5_col0\" class=\"data row5 col0\" >west</td>\n",
       "                        <td id=\"T_9f812_row5_col1\" class=\"data row5 col1\" >0.000741</td>\n",
       "                        <td id=\"T_9f812_row5_col2\" class=\"data row5 col2\" >1349</td>\n",
       "            </tr>\n",
       "            <tr>\n",
       "                        <th id=\"T_9f812_level0_row6\" class=\"row_heading level0 row6\" >2</th>\n",
       "                        <td id=\"T_9f812_row6_col0\" class=\"data row6 col0\" >east</td>\n",
       "                        <td id=\"T_9f812_row6_col1\" class=\"data row6 col1\" >0.000429</td>\n",
       "                        <td id=\"T_9f812_row6_col2\" class=\"data row6 col2\" >2330</td>\n",
       "            </tr>\n",
       "    </tbody></table>"
      ],
      "text/plain": [
       "<pandas.io.formats.style.Styler at 0x7fed7ce1bd90>"
      ]
     },
     "execution_count": 61,
     "metadata": {},
     "output_type": "execute_result"
    }
   ],
   "source": [
    "#give bunch of sentences, three word sequences, take them and create list out of them, iterate through, and get the prediction for each sentence \n",
    "test_sentences = \"\"\"\n",
    "gatsby \n",
    "west\n",
    "east\n",
    "daisy\n",
    "tom \n",
    "said\n",
    "we\n",
    "\"\"\".split('\\n')[1:-1]\n",
    "pdata = []\n",
    "for S in test_sentences:\n",
    "    pdata.append(predict_sentence(S))\n",
    "pd.DataFrame(pdata, columns=['token', 'p', 'pp']).sort_values('pp').style.background_gradient()"
   ]
  },
  {
   "cell_type": "markdown",
   "id": "adapted-bridal",
   "metadata": {},
   "source": [
    "I wanted to use this model again to look at the probability of one word sequences. In this case, I used sequences that I know are common in the novel. For example, the names \"gatsby\", \"tom\", and \"daisy\" are commonly used, which we have seen in other parts of this analsysi like in File2.ipynb and simply through the summary of the novel. Therefore, it makes a lot of sense that the probabilities for these words are higher than, for example, the probability of the word \"west\" appearing. The highest probability in this table is the one word sequence \"said\" which makes sense since there is a lot of diaolgue in the novel. Usually, with diaolgue from the characters, there will be the word \"said\" which proceeds what a character is trying to say/express. "
   ]
  },
  {
   "cell_type": "code",
   "execution_count": 62,
   "id": "romantic-amber",
   "metadata": {},
   "outputs": [
    {
     "data": {
      "text/html": [
       "<style  type=\"text/css\" >\n",
       "#T_0a20c_row0_col1,#T_0a20c_row6_col2{\n",
       "            background-color:  #023858;\n",
       "            color:  #f1f1f1;\n",
       "        }#T_0a20c_row0_col2,#T_0a20c_row6_col1{\n",
       "            background-color:  #fff7fb;\n",
       "            color:  #000000;\n",
       "        }#T_0a20c_row1_col1{\n",
       "            background-color:  #034f7d;\n",
       "            color:  #f1f1f1;\n",
       "        }#T_0a20c_row1_col2{\n",
       "            background-color:  #fef6fa;\n",
       "            color:  #000000;\n",
       "        }#T_0a20c_row2_col1{\n",
       "            background-color:  #2d8abd;\n",
       "            color:  #000000;\n",
       "        }#T_0a20c_row2_col2{\n",
       "            background-color:  #faf2f8;\n",
       "            color:  #000000;\n",
       "        }#T_0a20c_row3_col1{\n",
       "            background-color:  #79abd0;\n",
       "            color:  #000000;\n",
       "        }#T_0a20c_row3_col2{\n",
       "            background-color:  #f5eff6;\n",
       "            color:  #000000;\n",
       "        }#T_0a20c_row4_col1{\n",
       "            background-color:  #fbf3f9;\n",
       "            color:  #000000;\n",
       "        }#T_0a20c_row4_col2{\n",
       "            background-color:  #78abd0;\n",
       "            color:  #000000;\n",
       "        }#T_0a20c_row5_col1{\n",
       "            background-color:  #fdf5fa;\n",
       "            color:  #000000;\n",
       "        }#T_0a20c_row5_col2{\n",
       "            background-color:  #308cbe;\n",
       "            color:  #000000;\n",
       "        }</style><table id=\"T_0a20c_\" ><thead>    <tr>        <th class=\"blank level0\" ></th>        <th class=\"col_heading level0 col0\" >sent_str</th>        <th class=\"col_heading level0 col1\" >p</th>        <th class=\"col_heading level0 col2\" >pp</th>    </tr></thead><tbody>\n",
       "                <tr>\n",
       "                        <th id=\"T_0a20c_level0_row0\" class=\"row_heading level0 row0\" >2</th>\n",
       "                        <td id=\"T_0a20c_row0_col0\" class=\"data row0 col0\" >I want to</td>\n",
       "                        <td id=\"T_0a20c_row0_col1\" class=\"data row0 col1\" >0.000001</td>\n",
       "                        <td id=\"T_0a20c_row0_col2\" class=\"data row0 col2\" >117</td>\n",
       "            </tr>\n",
       "            <tr>\n",
       "                        <th id=\"T_0a20c_level0_row1\" class=\"row_heading level0 row1\" >5</th>\n",
       "                        <td id=\"T_0a20c_row1_col0\" class=\"data row1 col0\" >said to him</td>\n",
       "                        <td id=\"T_0a20c_row1_col1\" class=\"data row1 col1\" >0.000001</td>\n",
       "                        <td id=\"T_0a20c_row1_col2\" class=\"data row1 col2\" >121</td>\n",
       "            </tr>\n",
       "            <tr>\n",
       "                        <th id=\"T_0a20c_level0_row2\" class=\"row_heading level0 row2\" >4</th>\n",
       "                        <td id=\"T_0a20c_row2_col0\" class=\"data row2 col0\" >gatsby said to </td>\n",
       "                        <td id=\"T_0a20c_row2_col1\" class=\"data row2 col1\" >0.000000</td>\n",
       "                        <td id=\"T_0a20c_row2_col2\" class=\"data row2 col2\" >135</td>\n",
       "            </tr>\n",
       "            <tr>\n",
       "                        <th id=\"T_0a20c_level0_row3\" class=\"row_heading level0 row3\" >3</th>\n",
       "                        <td id=\"T_0a20c_row3_col0\" class=\"data row3 col0\" >daisy said to</td>\n",
       "                        <td id=\"T_0a20c_row3_col1\" class=\"data row3 col1\" >0.000000</td>\n",
       "                        <td id=\"T_0a20c_row3_col2\" class=\"data row3 col2\" >148</td>\n",
       "            </tr>\n",
       "            <tr>\n",
       "                        <th id=\"T_0a20c_level0_row4\" class=\"row_heading level0 row4\" >0</th>\n",
       "                        <td id=\"T_0a20c_row4_col0\" class=\"data row4 col0\" >the west egg </td>\n",
       "                        <td id=\"T_0a20c_row4_col1\" class=\"data row4 col1\" >0.000000</td>\n",
       "                        <td id=\"T_0a20c_row4_col2\" class=\"data row4 col2\" >347</td>\n",
       "            </tr>\n",
       "            <tr>\n",
       "                        <th id=\"T_0a20c_level0_row5\" class=\"row_heading level0 row5\" >1</th>\n",
       "                        <td id=\"T_0a20c_row5_col0\" class=\"data row5 col0\" >the east egg</td>\n",
       "                        <td id=\"T_0a20c_row5_col1\" class=\"data row5 col1\" >0.000000</td>\n",
       "                        <td id=\"T_0a20c_row5_col2\" class=\"data row5 col2\" >416</td>\n",
       "            </tr>\n",
       "            <tr>\n",
       "                        <th id=\"T_0a20c_level0_row6\" class=\"row_heading level0 row6\" >6</th>\n",
       "                        <td id=\"T_0a20c_row6_col0\" class=\"data row6 col0\" >we beat on</td>\n",
       "                        <td id=\"T_0a20c_row6_col1\" class=\"data row6 col1\" >0.000000</td>\n",
       "                        <td id=\"T_0a20c_row6_col2\" class=\"data row6 col2\" >585</td>\n",
       "            </tr>\n",
       "    </tbody></table>"
      ],
      "text/plain": [
       "<pandas.io.formats.style.Styler at 0x7fed7ecf3c90>"
      ]
     },
     "execution_count": 62,
     "metadata": {},
     "output_type": "execute_result"
    }
   ],
   "source": [
    "#give bunch of sentences, three word sequences, take them and create list out of them, iterate through, and get the prediction for each sentence \n",
    "test_sentences = \"\"\"\n",
    "the west egg \n",
    "the east egg\n",
    "I want to\n",
    "daisy said to\n",
    "gatsby said to \n",
    "said to him\n",
    "we beat on\n",
    "\"\"\".split('\\n')[1:-1]\n",
    "pdata = []\n",
    "for S in test_sentences:\n",
    "    pdata.append(predict_sentence(S))\n",
    "pd.DataFrame(pdata, columns=['sent_str', 'p', 'pp']).sort_values('pp').style.background_gradient()"
   ]
  },
  {
   "cell_type": "markdown",
   "id": "paperback-township",
   "metadata": {},
   "source": [
    "Here, we can see the probability of certain sentences (in this case, all three word sequences). This shows how likely these phrases are to appear in the novel. We can see, these phrases that I selected do not have a great probability. "
   ]
  },
  {
   "cell_type": "markdown",
   "id": "southern-schema",
   "metadata": {},
   "source": [
    "### N-Gram Models\n",
    "\n",
    "This function generates models up to the length specified."
   ]
  },
  {
   "cell_type": "code",
   "execution_count": 63,
   "id": "formal-trouble",
   "metadata": {},
   "outputs": [],
   "source": [
    "def get_ngrams(tokens, n=2):\n",
    "    \n",
    "    global OHCO\n",
    "    \n",
    "    # Create list to store copies of tokens table\n",
    "    X = []\n",
    "    \n",
    "    # Convert the index to cols in order to change the value of token_num\n",
    "    X.append(tokens['term_str'].reset_index())\n",
    "        \n",
    "    # Create copies of token table for each level of ngram, offset by 1, and \n",
    "    # merge with previous \n",
    "    for i in range(1, n):\n",
    "        X.append(X[0].copy())\n",
    "        X[i]['token_num'] = X[i]['token_num'] + i\n",
    "        X[i] = X[i].merge(X[i-1], on=OHCO, how='left', sort=True).fillna('<s>')\n",
    "        \n",
    "    # Compress tables to unique ngrams with counts\n",
    "    for i in range(0, n):\n",
    "        X[i] = X[i].drop(OHCO, 1)\n",
    "        cols = X[i].columns.tolist()\n",
    "        X[i]['n'] = 0\n",
    "        X[i] = X[i].groupby(cols).n.apply(lambda x: x.count()).to_frame()\n",
    "        X[i].index.names = ['w{}'.format(j) for j in range(i+1)]\n",
    "            \n",
    "    # Return just the ngram tables\n",
    "    return X"
   ]
  },
  {
   "cell_type": "markdown",
   "id": "musical-health",
   "metadata": {},
   "source": [
    "### Generate three models\n",
    "\n",
    "Unigram, bigram, and trigram"
   ]
  },
  {
   "cell_type": "code",
   "execution_count": 64,
   "id": "suburban-worth",
   "metadata": {},
   "outputs": [],
   "source": [
    "m1, m2, m3 = get_ngrams(dft, n=3)"
   ]
  },
  {
   "cell_type": "markdown",
   "id": "desperate-excerpt",
   "metadata": {},
   "source": [
    "### Compute Joint Probabilities"
   ]
  },
  {
   "cell_type": "code",
   "execution_count": 65,
   "id": "ignored-yorkshire",
   "metadata": {},
   "outputs": [],
   "source": [
    "m1['p'] = m1['n'] / m1['n'].sum()\n",
    "m2['p'] = m2['n'] / m2['n'].sum()\n",
    "m3['p'] = m3['n'] / m3['n'].sum()"
   ]
  },
  {
   "cell_type": "code",
   "execution_count": 66,
   "id": "sonic-graphics",
   "metadata": {},
   "outputs": [
    {
     "data": {
      "text/html": [
       "<div>\n",
       "<style scoped>\n",
       "    .dataframe tbody tr th:only-of-type {\n",
       "        vertical-align: middle;\n",
       "    }\n",
       "\n",
       "    .dataframe tbody tr th {\n",
       "        vertical-align: top;\n",
       "    }\n",
       "\n",
       "    .dataframe thead th {\n",
       "        text-align: right;\n",
       "    }\n",
       "</style>\n",
       "<table border=\"1\" class=\"dataframe\">\n",
       "  <thead>\n",
       "    <tr style=\"text-align: right;\">\n",
       "      <th></th>\n",
       "      <th>n</th>\n",
       "      <th>p</th>\n",
       "    </tr>\n",
       "    <tr>\n",
       "      <th>w0</th>\n",
       "      <th></th>\n",
       "      <th></th>\n",
       "    </tr>\n",
       "  </thead>\n",
       "  <tbody>\n",
       "    <tr>\n",
       "      <th></th>\n",
       "      <td>3465</td>\n",
       "      <td>0.066937</td>\n",
       "    </tr>\n",
       "    <tr>\n",
       "      <th>the</th>\n",
       "      <td>2382</td>\n",
       "      <td>0.046016</td>\n",
       "    </tr>\n",
       "    <tr>\n",
       "      <th>and</th>\n",
       "      <td>1531</td>\n",
       "      <td>0.029576</td>\n",
       "    </tr>\n",
       "    <tr>\n",
       "      <th>a</th>\n",
       "      <td>1398</td>\n",
       "      <td>0.027007</td>\n",
       "    </tr>\n",
       "    <tr>\n",
       "      <th>i</th>\n",
       "      <td>1177</td>\n",
       "      <td>0.022737</td>\n",
       "    </tr>\n",
       "  </tbody>\n",
       "</table>\n",
       "</div>"
      ],
      "text/plain": [
       "        n         p\n",
       "w0                 \n",
       "     3465  0.066937\n",
       "the  2382  0.046016\n",
       "and  1531  0.029576\n",
       "a    1398  0.027007\n",
       "i    1177  0.022737"
      ]
     },
     "execution_count": 66,
     "metadata": {},
     "output_type": "execute_result"
    }
   ],
   "source": [
    "m1.sort_values('p', ascending=False).head()"
   ]
  },
  {
   "cell_type": "code",
   "execution_count": 67,
   "id": "cooked-church",
   "metadata": {},
   "outputs": [
    {
     "data": {
      "text/html": [
       "<div>\n",
       "<style scoped>\n",
       "    .dataframe tbody tr th:only-of-type {\n",
       "        vertical-align: middle;\n",
       "    }\n",
       "\n",
       "    .dataframe tbody tr th {\n",
       "        vertical-align: top;\n",
       "    }\n",
       "\n",
       "    .dataframe thead th {\n",
       "        text-align: right;\n",
       "    }\n",
       "</style>\n",
       "<table border=\"1\" class=\"dataframe\">\n",
       "  <thead>\n",
       "    <tr style=\"text-align: right;\">\n",
       "      <th></th>\n",
       "      <th></th>\n",
       "      <th>n</th>\n",
       "      <th>p</th>\n",
       "    </tr>\n",
       "    <tr>\n",
       "      <th>w0</th>\n",
       "      <th>w1</th>\n",
       "      <th></th>\n",
       "      <th></th>\n",
       "    </tr>\n",
       "  </thead>\n",
       "  <tbody>\n",
       "    <tr>\n",
       "      <th rowspan=\"3\" valign=\"top\"></th>\n",
       "      <th>&lt;s&gt;</th>\n",
       "      <td>950</td>\n",
       "      <td>0.018352</td>\n",
       "    </tr>\n",
       "    <tr>\n",
       "      <th>i</th>\n",
       "      <td>312</td>\n",
       "      <td>0.006027</td>\n",
       "    </tr>\n",
       "    <tr>\n",
       "      <th>he</th>\n",
       "      <td>265</td>\n",
       "      <td>0.005119</td>\n",
       "    </tr>\n",
       "    <tr>\n",
       "      <th>of</th>\n",
       "      <th>the</th>\n",
       "      <td>214</td>\n",
       "      <td>0.004134</td>\n",
       "    </tr>\n",
       "    <tr>\n",
       "      <th>the</th>\n",
       "      <th>&lt;s&gt;</th>\n",
       "      <td>205</td>\n",
       "      <td>0.003960</td>\n",
       "    </tr>\n",
       "  </tbody>\n",
       "</table>\n",
       "</div>"
      ],
      "text/plain": [
       "           n         p\n",
       "w0  w1                \n",
       "    <s>  950  0.018352\n",
       "    i    312  0.006027\n",
       "    he   265  0.005119\n",
       "of  the  214  0.004134\n",
       "the <s>  205  0.003960"
      ]
     },
     "execution_count": 67,
     "metadata": {},
     "output_type": "execute_result"
    }
   ],
   "source": [
    "m2.sort_values('p', ascending=False).head()"
   ]
  },
  {
   "cell_type": "code",
   "execution_count": 68,
   "id": "thrown-penguin",
   "metadata": {},
   "outputs": [
    {
     "data": {
      "text/html": [
       "<div>\n",
       "<style scoped>\n",
       "    .dataframe tbody tr th:only-of-type {\n",
       "        vertical-align: middle;\n",
       "    }\n",
       "\n",
       "    .dataframe tbody tr th {\n",
       "        vertical-align: top;\n",
       "    }\n",
       "\n",
       "    .dataframe thead th {\n",
       "        text-align: right;\n",
       "    }\n",
       "</style>\n",
       "<table border=\"1\" class=\"dataframe\">\n",
       "  <thead>\n",
       "    <tr style=\"text-align: right;\">\n",
       "      <th></th>\n",
       "      <th></th>\n",
       "      <th></th>\n",
       "      <th>n</th>\n",
       "      <th>p</th>\n",
       "    </tr>\n",
       "    <tr>\n",
       "      <th>w0</th>\n",
       "      <th>w1</th>\n",
       "      <th>w2</th>\n",
       "      <th></th>\n",
       "      <th></th>\n",
       "    </tr>\n",
       "  </thead>\n",
       "  <tbody>\n",
       "    <tr>\n",
       "      <th></th>\n",
       "      <th>&lt;s&gt;</th>\n",
       "      <th>&lt;s&gt;</th>\n",
       "      <td>950</td>\n",
       "      <td>0.018352</td>\n",
       "    </tr>\n",
       "    <tr>\n",
       "      <th>the</th>\n",
       "      <th>&lt;s&gt;</th>\n",
       "      <th>&lt;s&gt;</th>\n",
       "      <td>205</td>\n",
       "      <td>0.003960</td>\n",
       "    </tr>\n",
       "    <tr>\n",
       "      <th>and</th>\n",
       "      <th>&lt;s&gt;</th>\n",
       "      <th>&lt;s&gt;</th>\n",
       "      <td>134</td>\n",
       "      <td>0.002589</td>\n",
       "    </tr>\n",
       "    <tr>\n",
       "      <th>a</th>\n",
       "      <th>&lt;s&gt;</th>\n",
       "      <th>&lt;s&gt;</th>\n",
       "      <td>123</td>\n",
       "      <td>0.002376</td>\n",
       "    </tr>\n",
       "    <tr>\n",
       "      <th>of</th>\n",
       "      <th>&lt;s&gt;</th>\n",
       "      <th>&lt;s&gt;</th>\n",
       "      <td>107</td>\n",
       "      <td>0.002067</td>\n",
       "    </tr>\n",
       "  </tbody>\n",
       "</table>\n",
       "</div>"
      ],
      "text/plain": [
       "               n         p\n",
       "w0  w1  w2                \n",
       "    <s> <s>  950  0.018352\n",
       "the <s> <s>  205  0.003960\n",
       "and <s> <s>  134  0.002589\n",
       "a   <s> <s>  123  0.002376\n",
       "of  <s> <s>  107  0.002067"
      ]
     },
     "execution_count": 68,
     "metadata": {},
     "output_type": "execute_result"
    }
   ],
   "source": [
    "m3.sort_values('p', ascending=False).head()"
   ]
  },
  {
   "cell_type": "markdown",
   "id": "federal-foundation",
   "metadata": {},
   "source": [
    "### Compute conditional probabilities\n",
    "\n",
    "$p(w_1|w_0) = p(w_0, w_1) / p(w_0)$\n",
    "\n",
    "$p(w_2|w_0,w_1) = p(w_0, w_1, w_2) / p(w_0, w_1)$\n"
   ]
  },
  {
   "cell_type": "markdown",
   "id": "underlying-example",
   "metadata": {},
   "source": [
    "Below, we are computing the conditional probabilites of the model. The conditional probability is exactly what it sounds like. It looks for the probability of a word, given that another word is present. We can extend this idea to the probability of a word given that there are two words that preceed it, etc."
   ]
  },
  {
   "cell_type": "code",
   "execution_count": 69,
   "id": "incoming-closure",
   "metadata": {},
   "outputs": [],
   "source": [
    "m2x = m2.groupby('w0')[['n']].apply(lambda x: x.n.sum())\n",
    "m3x = m3.groupby(['w0','w1'])[['n']].apply(lambda x: x.n.sum())\n",
    "m2m = (m2.n / m2x).to_frame('p').sort_index()\n",
    "m3m = (m3.n / m3x).sort_values().to_frame('p').sort_index()"
   ]
  },
  {
   "cell_type": "code",
   "execution_count": 70,
   "id": "peaceful-joseph",
   "metadata": {},
   "outputs": [],
   "source": [
    "m2dtm = m2.n.unstack().fillna(0).apply(lambda x: x / x.sum(), 1)\n",
    "# m3m = m3.n.unstack().fillna(0).apply(lambda x: x / x.sum(), 1)"
   ]
  },
  {
   "cell_type": "code",
   "execution_count": 71,
   "id": "dominant-armstrong",
   "metadata": {},
   "outputs": [
    {
     "data": {
      "text/html": [
       "<div>\n",
       "<style scoped>\n",
       "    .dataframe tbody tr th:only-of-type {\n",
       "        vertical-align: middle;\n",
       "    }\n",
       "\n",
       "    .dataframe tbody tr th {\n",
       "        vertical-align: top;\n",
       "    }\n",
       "\n",
       "    .dataframe thead th {\n",
       "        text-align: right;\n",
       "    }\n",
       "</style>\n",
       "<table border=\"1\" class=\"dataframe\">\n",
       "  <thead>\n",
       "    <tr style=\"text-align: right;\">\n",
       "      <th></th>\n",
       "      <th></th>\n",
       "      <th>p</th>\n",
       "    </tr>\n",
       "    <tr>\n",
       "      <th>w0</th>\n",
       "      <th>w1</th>\n",
       "      <th></th>\n",
       "    </tr>\n",
       "  </thead>\n",
       "  <tbody>\n",
       "    <tr>\n",
       "      <th rowspan=\"5\" valign=\"top\"></th>\n",
       "      <th></th>\n",
       "      <td>0.011255</td>\n",
       "    </tr>\n",
       "    <tr>\n",
       "      <th>7</th>\n",
       "      <td>0.000289</td>\n",
       "    </tr>\n",
       "    <tr>\n",
       "      <th>&lt;s&gt;</th>\n",
       "      <td>0.274170</td>\n",
       "    </tr>\n",
       "    <tr>\n",
       "      <th>a</th>\n",
       "      <td>0.011544</td>\n",
       "    </tr>\n",
       "    <tr>\n",
       "      <th>about</th>\n",
       "      <td>0.000289</td>\n",
       "    </tr>\n",
       "    <tr>\n",
       "      <th>...</th>\n",
       "      <th>...</th>\n",
       "      <td>...</td>\n",
       "    </tr>\n",
       "    <tr>\n",
       "      <th rowspan=\"3\" valign=\"top\">youve</th>\n",
       "      <th>got</th>\n",
       "      <td>0.384615</td>\n",
       "    </tr>\n",
       "    <tr>\n",
       "      <th>had</th>\n",
       "      <td>0.076923</td>\n",
       "    </tr>\n",
       "    <tr>\n",
       "      <th>heard</th>\n",
       "      <td>0.076923</td>\n",
       "    </tr>\n",
       "    <tr>\n",
       "      <th>youwhy</th>\n",
       "      <th>dont</th>\n",
       "      <td>1.000000</td>\n",
       "    </tr>\n",
       "    <tr>\n",
       "      <th>yukon</th>\n",
       "      <th>of</th>\n",
       "      <td>1.000000</td>\n",
       "    </tr>\n",
       "  </tbody>\n",
       "</table>\n",
       "<p>27261 rows × 1 columns</p>\n",
       "</div>"
      ],
      "text/plain": [
       "                     p\n",
       "w0     w1             \n",
       "              0.011255\n",
       "       7      0.000289\n",
       "       <s>    0.274170\n",
       "       a      0.011544\n",
       "       about  0.000289\n",
       "...                ...\n",
       "youve  got    0.384615\n",
       "       had    0.076923\n",
       "       heard  0.076923\n",
       "youwhy dont   1.000000\n",
       "yukon  of     1.000000\n",
       "\n",
       "[27261 rows x 1 columns]"
      ]
     },
     "execution_count": 71,
     "metadata": {},
     "output_type": "execute_result"
    }
   ],
   "source": [
    "m2m"
   ]
  },
  {
   "cell_type": "code",
   "execution_count": 72,
   "id": "asian-visibility",
   "metadata": {},
   "outputs": [
    {
     "data": {
      "text/plain": [
       "w0\n",
       "old          0.506024\n",
       "theres       0.047619\n",
       "a            0.000715\n",
       "             0.000000\n",
       "practise     0.000000\n",
       "prejudice    0.000000\n",
       "Name: sport, dtype: float64"
      ]
     },
     "execution_count": 72,
     "metadata": {},
     "output_type": "execute_result"
    }
   ],
   "source": [
    "m2dtm['sport'].sort_values(ascending=False).head(6)"
   ]
  },
  {
   "cell_type": "code",
   "execution_count": 73,
   "id": "coated-importance",
   "metadata": {},
   "outputs": [
    {
     "data": {
      "text/html": [
       "<div>\n",
       "<style scoped>\n",
       "    .dataframe tbody tr th:only-of-type {\n",
       "        vertical-align: middle;\n",
       "    }\n",
       "\n",
       "    .dataframe tbody tr th {\n",
       "        vertical-align: top;\n",
       "    }\n",
       "\n",
       "    .dataframe thead th {\n",
       "        text-align: right;\n",
       "    }\n",
       "</style>\n",
       "<table border=\"1\" class=\"dataframe\">\n",
       "  <thead>\n",
       "    <tr style=\"text-align: right;\">\n",
       "      <th></th>\n",
       "      <th>p</th>\n",
       "    </tr>\n",
       "    <tr>\n",
       "      <th>w0</th>\n",
       "      <th></th>\n",
       "    </tr>\n",
       "  </thead>\n",
       "  <tbody>\n",
       "    <tr>\n",
       "      <th>old</th>\n",
       "      <td>0.506024</td>\n",
       "    </tr>\n",
       "    <tr>\n",
       "      <th>theres</th>\n",
       "      <td>0.047619</td>\n",
       "    </tr>\n",
       "    <tr>\n",
       "      <th>a</th>\n",
       "      <td>0.000715</td>\n",
       "    </tr>\n",
       "  </tbody>\n",
       "</table>\n",
       "</div>"
      ],
      "text/plain": [
       "               p\n",
       "w0              \n",
       "old     0.506024\n",
       "theres  0.047619\n",
       "a       0.000715"
      ]
     },
     "execution_count": 73,
     "metadata": {},
     "output_type": "execute_result"
    }
   ],
   "source": [
    "m2m.xs('sport', level=1).sort_values('p', ascending=False).head(6)"
   ]
  },
  {
   "cell_type": "markdown",
   "id": "mexican-opening",
   "metadata": {},
   "source": [
    "## Predicting Seentences "
   ]
  },
  {
   "cell_type": "code",
   "execution_count": 74,
   "id": "apart-huntington",
   "metadata": {},
   "outputs": [],
   "source": [
    "def predict_sentence2(sent_str, n=2):\n",
    "    \n",
    "    # Pick appropriate model\n",
    "    global m1, m2, m3\n",
    "    \n",
    "    if n == 1:\n",
    "        M = m1\n",
    "    elif n == 2:\n",
    "        M = m2\n",
    "    elif n == 3:\n",
    "        M = m3\n",
    "    else:\n",
    "        return False\n",
    "    \n",
    "    # Get smoothing \n",
    "    smooth = M.p.min()\n",
    "    \n",
    "    # Add sentence padding (Hacky)\n",
    "    padded_sent_str = sent_str + (' <s>' * (n-1))\n",
    "    \n",
    "    # Parse sentence into tokens and normalize string\n",
    "    tokens = pd.DataFrame(padded_sent_str.lower().split(), columns=['term_str'])\n",
    "    \n",
    "    # Generate ngram keys \n",
    "    ngrams = []\n",
    "    offset = n - 1\n",
    "    for i in range(offset, tokens.shape[0]):\n",
    "        ngram = []\n",
    "        w = tokens.iloc[i].term_str\n",
    "        for j in range(n):\n",
    "            ngram.append(tokens.iloc[i-j].term_str)\n",
    "        ngram.reverse()\n",
    "        ngrams.append(ngram)\n",
    "        \n",
    "    # Compute the probability of the sentence\n",
    "    L = 0\n",
    "    for ngram in ngrams:\n",
    "        try:\n",
    "            p_ngram = M.loc[tuple(ngram)].p\n",
    "        except KeyError:\n",
    "            p_ngram = smooth\n",
    "        L += np.log2(p_ngram)\n",
    "    P = np.exp(L)\n",
    "    \n",
    "    print(sent_str, P)"
   ]
  },
  {
   "cell_type": "code",
   "execution_count": 75,
   "id": "political-springfield",
   "metadata": {},
   "outputs": [
    {
     "name": "stdout",
     "output_type": "stream",
     "text": [
      "old sport 3.794358703119785e-09\n",
      "the east egg 4.123924306297385e-12\n",
      "I want to 9.665823587037597e-10\n",
      "Daisy said to 3.486551564992134e-10\n",
      "said to her 1.424735287619413e-09\n",
      "said to him 8.516436085919029e-10\n"
     ]
    }
   ],
   "source": [
    "predict_sentence2('old sport',1)\n",
    "predict_sentence2('the east egg',1)\n",
    "predict_sentence2(\"I want to\",1)\n",
    "predict_sentence2(\"Daisy said to\",1)\n",
    "predict_sentence2(\"said to her\",1)\n",
    "predict_sentence2('said to him',1)"
   ]
  },
  {
   "cell_type": "markdown",
   "id": "congressional-seeking",
   "metadata": {},
   "source": [
    "Here, we are once again looking at the phrases I selected earlier. The example above uses model 1, and it shows that the prediction of the sentence \"said to her\" is the most likely with \"I want to\" being the least likely. "
   ]
  },
  {
   "cell_type": "code",
   "execution_count": 76,
   "id": "alert-productivity",
   "metadata": {},
   "outputs": [
    {
     "name": "stdout",
     "output_type": "stream",
     "text": [
      "old sport 5.712437609475665e-10\n",
      "the east egg 8.861438669006756e-18\n",
      "I want to 3.184729233090531e-14\n",
      "Daisy said to 1.7758327270317025e-17\n",
      "said to her 4.227493919007921e-16\n",
      "said to him 9.084678685951398e-16\n"
     ]
    }
   ],
   "source": [
    "predict_sentence2('old sport',2)\n",
    "predict_sentence2('the east egg',2)\n",
    "predict_sentence2(\"I want to\",2)\n",
    "predict_sentence2(\"Daisy said to\",2)\n",
    "predict_sentence2(\"said to her\",2)\n",
    "predict_sentence2('said to him',2)"
   ]
  },
  {
   "cell_type": "markdown",
   "id": "established-spice",
   "metadata": {},
   "source": [
    "Here, we have the same phrases, and we see the second model being used. With this model, the phrase \"the east egg\" is the leastl ikely and \"old sport\" is the most likely."
   ]
  },
  {
   "cell_type": "code",
   "execution_count": 77,
   "id": "czech-companion",
   "metadata": {},
   "outputs": [
    {
     "name": "stdout",
     "output_type": "stream",
     "text": [
      "old sport 2.2473686215095245e-10\n",
      "the east egg 6.553430937804611e-20\n",
      "I want to 7.58802892551895e-16\n",
      "Daisy said to 2.4033282509368176e-18\n",
      "said to her 9.601331637410943e-19\n",
      "said to him 1.139583452885565e-17\n"
     ]
    }
   ],
   "source": [
    "predict_sentence2('old sport',3)\n",
    "predict_sentence2('the east egg',3)\n",
    "predict_sentence2(\"I want to\",3)\n",
    "predict_sentence2(\"Daisy said to\",3)\n",
    "predict_sentence2(\"said to her\",3)\n",
    "predict_sentence2('said to him',3)"
   ]
  },
  {
   "cell_type": "markdown",
   "id": "assumed-lesson",
   "metadata": {},
   "source": [
    "Again with the same phrases but the third model, we see that \"old sport\" is once again the most likely and \"said to her\" is the least likely to be predicted."
   ]
  },
  {
   "cell_type": "markdown",
   "id": "mexican-island",
   "metadata": {},
   "source": [
    "## Explore Pairs"
   ]
  },
  {
   "cell_type": "code",
   "execution_count": 78,
   "id": "supposed-sweden",
   "metadata": {},
   "outputs": [],
   "source": [
    "def explore_pairs(list1, list2):\n",
    "    global m2m\n",
    "    test_pairs = []\n",
    "    for x in list1:\n",
    "        for y in list2:\n",
    "            pair = (x, y)\n",
    "            try:\n",
    "                m2m.loc[pair]\n",
    "                test_pairs.append((x, y))\n",
    "            except:\n",
    "                pass\n",
    "    return m2m.loc[test_pairs].unstack(fill_value=0).style.background_gradient(cmap='Greens')"
   ]
  },
  {
   "cell_type": "code",
   "execution_count": 79,
   "id": "personalized-voice",
   "metadata": {},
   "outputs": [
    {
     "data": {
      "text/html": [
       "<style  type=\"text/css\" >\n",
       "#T_ec327_row0_col0,#T_ec327_row0_col1{\n",
       "            background-color:  #00441b;\n",
       "            color:  #f1f1f1;\n",
       "        }#T_ec327_row1_col0,#T_ec327_row1_col1{\n",
       "            background-color:  #f7fcf5;\n",
       "            color:  #000000;\n",
       "        }</style><table id=\"T_ec327_\" ><thead>    <tr>        <th class=\"blank level0\" ></th>        <th class=\"col_heading level0 col0\" colspan=\"2\">p</th>    </tr>    <tr>        <th class=\"index_name level1\" >w1</th>        <th class=\"col_heading level1 col0\" >said</th>        <th class=\"col_heading level1 col1\" >heard</th>    </tr>    <tr>        <th class=\"index_name level0\" >w0</th>        <th class=\"blank\" ></th>        <th class=\"blank\" ></th>    </tr></thead><tbody>\n",
       "                <tr>\n",
       "                        <th id=\"T_ec327_level0_row0\" class=\"row_heading level0 row0\" >he</th>\n",
       "                        <td id=\"T_ec327_row0_col0\" class=\"data row0 col0\" >0.065409</td>\n",
       "                        <td id=\"T_ec327_row0_col1\" class=\"data row0 col1\" >0.003774</td>\n",
       "            </tr>\n",
       "            <tr>\n",
       "                        <th id=\"T_ec327_level0_row1\" class=\"row_heading level0 row1\" >she</th>\n",
       "                        <td id=\"T_ec327_row1_col0\" class=\"data row1 col0\" >0.065041</td>\n",
       "                        <td id=\"T_ec327_row1_col1\" class=\"data row1 col1\" >0.002710</td>\n",
       "            </tr>\n",
       "    </tbody></table>"
      ],
      "text/plain": [
       "<pandas.io.formats.style.Styler at 0x7fed7a7deb90>"
      ]
     },
     "execution_count": 79,
     "metadata": {},
     "output_type": "execute_result"
    }
   ],
   "source": [
    "explore_pairs(['he','she'],['said','heard'])"
   ]
  },
  {
   "cell_type": "markdown",
   "id": "perceived-timing",
   "metadata": {},
   "source": [
    "Here, we are looking at the probability of words to appear in pairs. For example, we see that the probability for the words \"he\" and \"said\" to appear with one another is 0.065409. This is the most likely pair of words in the table, and the least likely is \"she\" and \"heard\". I chose to explore the pairs \"he\", \"she\", and \"said\", \"heard\" since these I figured are some of the most likely words to appear in the novel."
   ]
  },
  {
   "cell_type": "code",
   "execution_count": 80,
   "id": "fresh-plaintiff",
   "metadata": {},
   "outputs": [
    {
     "data": {
      "text/html": [
       "<style  type=\"text/css\" >\n",
       "#T_53486_row0_col0,#T_53486_row1_col1{\n",
       "            background-color:  #f7fcf5;\n",
       "            color:  #000000;\n",
       "        }#T_53486_row0_col1,#T_53486_row1_col0{\n",
       "            background-color:  #00441b;\n",
       "            color:  #f1f1f1;\n",
       "        }</style><table id=\"T_53486_\" ><thead>    <tr>        <th class=\"blank level0\" ></th>        <th class=\"col_heading level0 col0\" colspan=\"2\">p</th>    </tr>    <tr>        <th class=\"index_name level1\" >w1</th>        <th class=\"col_heading level1 col0\" >egg</th>        <th class=\"col_heading level1 col1\" >side</th>    </tr>    <tr>        <th class=\"index_name level0\" >w0</th>        <th class=\"blank\" ></th>        <th class=\"blank\" ></th>    </tr></thead><tbody>\n",
       "                <tr>\n",
       "                        <th id=\"T_53486_level0_row0\" class=\"row_heading level0 row0\" >east</th>\n",
       "                        <td id=\"T_53486_row0_col0\" class=\"data row0 col0\" >0.227273</td>\n",
       "                        <td id=\"T_53486_row0_col1\" class=\"data row0 col1\" >0.045455</td>\n",
       "            </tr>\n",
       "            <tr>\n",
       "                        <th id=\"T_53486_level0_row1\" class=\"row_heading level0 row1\" >west</th>\n",
       "                        <td id=\"T_53486_row1_col0\" class=\"data row1 col0\" >0.621622</td>\n",
       "                        <td id=\"T_53486_row1_col1\" class=\"data row1 col1\" >0.000000</td>\n",
       "            </tr>\n",
       "    </tbody></table>"
      ],
      "text/plain": [
       "<pandas.io.formats.style.Styler at 0x7fed7ccf4b10>"
      ]
     },
     "execution_count": 80,
     "metadata": {},
     "output_type": "execute_result"
    }
   ],
   "source": [
    "explore_pairs(['east','west'],['egg','side']) #looking at locations "
   ]
  },
  {
   "cell_type": "markdown",
   "id": "thick-species",
   "metadata": {},
   "source": [
    "I wanted to also explore pairs while looking at specific locations that are mentioned in the novel. For example, the East Egg and West Egg both play a critical role in the novel as they represent different ideas of wealth. Similarly, as the summary from File1.ipynb explains, Nick lives on one side and Tom and Daisy live on the other. Looking at the pairs above, we can see that the combination \"east\" and \"egg\" were more probable than \"west\" and \"egg\". This is an interesting observation since the difference between the two locations is that East Egg is a place where those who inherited their wealth live. West Egg is where people who worked for their wealth lived. The novel does revolve greatly around the idea of inherited or \"old\" money, so it makes sense that the pair \"East\" and \"Egg\" are more likely than \"West\" and \"Egg\". This emphasizes the theme of status and class, which I discussed in more detail in File1.ipynb. \n",
    "\n",
    "The difference between East Egg and West Egg is important. "
   ]
  },
  {
   "cell_type": "markdown",
   "id": "behavioral-society",
   "metadata": {},
   "source": [
    "## Generate Text\n",
    "\n",
    "We use back-off to account for missing ngrams."
   ]
  },
  {
   "cell_type": "code",
   "execution_count": 81,
   "id": "loved-naples",
   "metadata": {},
   "outputs": [],
   "source": [
    "def generate_text(start_word='she', n=250):\n",
    "    words = [start_word]\n",
    "    for i in range(n):\n",
    "        if len(words) == 1:\n",
    "            w = m2m.loc[start_word].p\n",
    "            next_word = m2m.loc[start_word].sample(weights=w).index.values[0]\n",
    "        elif len(words) > 1:\n",
    "            bg = tuple(words[-2:])\n",
    "            try:\n",
    "                w = m3m.loc[bg].p\n",
    "                next_word = m3m.loc[bg].sample(weights=w).index.values[0]\n",
    "            except KeyError:\n",
    "                ug = bg[1]\n",
    "                if ug == '<s>':\n",
    "                    next_word = m1.sample(weights=m1.p).index[0]\n",
    "                else:\n",
    "                    w = m2m.loc[ug].p\n",
    "                    next_word = m2m.loc[ug].sample(weights=w).index.values[0]\n",
    "        words.append(next_word)\n",
    "    text = ' '.join(words)\n",
    "    text = text.replace(' <s> <s>', '.') + '.'\n",
    "    text = text.upper() # To give that telegraph message look :-)\n",
    "    print(text)"
   ]
  },
  {
   "cell_type": "code",
   "execution_count": 82,
   "id": "every-sheep",
   "metadata": {},
   "outputs": [
    {
     "name": "stdout",
     "output_type": "stream",
     "text": [
      "SHE INQUIRED. MUCH SWEAT AND CORRECTION IN A WOMAN WHO HAD FOUND LITTLE THAT IT HADNT HAPPENED BEFORE. HAD MADE ME LIGHTHEADED AND HAPPY. GOT MY MAN WORKING ON IT.  ON BUFFET TABLES GARNISHED WITH A CONSCIENTIOUS EXPRESSIONTHEN SHE LAUGHED AN ABSURD RESEMBLANCE TO JOHN. FLOOR. . WELL THEY SAY HES A SMART MAN. A SON OF SOME SORT OF CREPT. KNOW YOU DIDNT MARRY HIM. AND THE MOON. I HEARD THAT YOU DROPPED IN. PARTICULAR WONDER. NEVER LOVED HIMAND ITS. HAD EXPECTED THAT MR. EAGERLY AT ME WITH A CREATIVE. YOU DIRTY.  THEN NEW ARRIVALS. OPEN. ONE OF. TEARS WERE OVERFLOWING DOWN. SOLITARY LAMP BESIDE THE GATE. WAS A BIG REQUEST OF YOU FROM NOW. HIM. GIVES TO THE. SILVER POLISHER. WAS HIS WIFES MAN AND NOT. TWILIGHT I FELT THAT HE HAD COME UP ON US AND SPOKE. TONIGHT BUT IT LOOKS WONDERFUL ON YOU IF YOU FEEL MISS BAEDEKER.  NO THANKS.  YOURE HAVING LUNCH WITH ME TODAY AND I CALLED UP DAISY FROM THE ROOM WITH THRILLING SCORN. THE NAMES OF. FROM YOUR SIGHT. YOU WANT LADY <S>.\n"
     ]
    }
   ],
   "source": [
    "generate_text()"
   ]
  },
  {
   "cell_type": "markdown",
   "id": "compatible-purple",
   "metadata": {},
   "source": [
    "Here, we are generating a random text that could be a part of the novel. Since there is no parameter given to `generate_text()` in this instance, the first starting word is defaulted to \"she\". We can see how this generated text does not make great sense in terms of the novel and the plot of the novel. "
   ]
  },
  {
   "cell_type": "code",
   "execution_count": 83,
   "id": "typical-adjustment",
   "metadata": {},
   "outputs": [
    {
     "name": "stdout",
     "output_type": "stream",
     "text": [
      "GATSBY STANDING ALONE ON THE GRAVEL DRIVE. FELT A LITTLE AND THE FROTHY. THE END OF YOUR TIME. SHOES FROM ENGLAND WITH RUBBER KNOBS ON THE AIR. DOWN. A RIPE MYSTERY ABOUT IT FOR ANOTHER. HIS WAY.  HIS TANNED SKIN WAS DRAWN BUT I LIKE YOUR DRESS  REMARKED. TO WHICH HE EITHER. IN ITS SWEEP A SUNKEN ITALIAN GARDEN A HALF. JOINED BY ANY STANDARDIT WAS A BIG DINNER PARTY AND HE LOOKED AT ME BEFORE THEY FADED THROUGH A COPY OF SIMON CALLED PETER AND SOME GARRULOUS MAN TELLING OVER AND HE STAYED THERE ALONE WITH. FOUND THE HUMIDOR ON AN ABANDONED GRASS ROLLER IN THE MEANTIME IN BETWEEN TIME. ON INNOCENTLY. TO HIM AND HE MUST HAVE CONTRIBUTED. IT YOU PERCEIVE AFTER A MOMENT I THOUGHT OF. TO. SETTLER.  HE BORROWED SOMEBODYS BEST SUIT TO GET AWAY INTENDING TO WAIT. WHILE. LISTEN TOM. US SHIRTS OF SHEER LINEN AND THICK SILK AND FINE FLANNEL . FACT AS IT COULD EVER BE. OUT WHOM THE YELLOW CAR.  GATSBY WOULD. TWO YEARS I REMEMBER THE PORTRAIT OF HIM. WEATHER AND THERE. OR SIX COCKTAILS SHE. LOVE WITH HER BACK INTO THE GARDEN <S>.\n"
     ]
    }
   ],
   "source": [
    "generate_text(\"gatsby\")"
   ]
  },
  {
   "cell_type": "markdown",
   "id": "progressive-clarity",
   "metadata": {},
   "source": [
    "In this case, the start word is specified and is \"Gatsby\". It's interesting that since the text generated began with Gatsby, there was a mention of Jordan and of picking romantic women from the room. There's also a mention of the word \"Millionaire\", which could be due to Gatsby's wealth. Yet, like the previous example, we see that overall this generated text does not make too much sense."
   ]
  },
  {
   "cell_type": "code",
   "execution_count": 84,
   "id": "portable-lingerie",
   "metadata": {},
   "outputs": [
    {
     "name": "stdout",
     "output_type": "stream",
     "text": [
      "NICK  AND. GRANTED. HARSHLY. IT OUT IN THE HALL OF THE MEDITERRANEANTHEN THE SHRILL VOICE OF THE WIVES AGREEMENT THAT SUCH MALEVOLENCE WAS BEYOND. THERE WAS LAUGHTER FROM UNHEARD JOKES . NOSE. WALL. BY THE NUMBER OF. SEARCHED FOR EACH OTHER AS IF I HAD THOUGHT OF.  CONTINUED GATSBY ALMOST AGGRESSIVELY. THE NIGHT. THE. MORNING AT NINE. MURMUROUS AND UNINFLECTED RUNNING. INSTINCT WAS TO HIM. JUST SO FAR I SEE NOW THAT WALTERS AFRAID TO TELL ME. INTO THE. OPENING THE DOOR. FOR MY OWN FACE HAD NOW ASSUMED A DEEP ONE  SAID GATSBY POLITELY. HERE AND LETS HAVE SOME. OUTSIDE. VISIBLY THROUGH TWO STATES AND WAS ENTERING UPON A LONG SILENCE ON THE HARD ROCK OR THE STERNER ONES OF THE DOG AND HER NEXT REMARK MADE ME. EXPECTED NO AFFECTION. A GUIDE . A YOUNG MAN  SAID TOM SAVAGELY. DAISY. HAD. FIRST NIGHT I WAS A VAGUE WAY THAT. HER CURIOUS AND LOVELY WITH BRIGHT THINGS IN IT  HIGH IN A LITTLE AND THE.  SAID HIS FRIEND. A CHURCH YOU GO. BUT IM THE SHEIK OF ARABY. PITCH OF.\n"
     ]
    }
   ],
   "source": [
    "generate_text(\"nick\")"
   ]
  },
  {
   "cell_type": "markdown",
   "id": "cooperative-receptor",
   "metadata": {},
   "source": [
    "Here, the start word is \"Nick\". This generated text also makes no coherent sense together. However, as mentioned before that is expected given the nature of the function."
   ]
  },
  {
   "cell_type": "code",
   "execution_count": 85,
   "id": "interstate-subject",
   "metadata": {},
   "outputs": [
    {
     "name": "stdout",
     "output_type": "stream",
     "text": [
      "DAISY TO COME BACK IN HIS. AT THE TRUTH  HE INQUIRED. LONG AS MINE. THIS HE FLINCHED AND BEGAN TO SING WITH THE MUSIC ROOM GATSBY TURNED AROUND IN THE MORNING. CHANGE. SUBWAY TRAIN IN TIMES SQUARE. 158TH STREET THE CAB STOPPED AT THE SITUATION. AMOUNT. UNEASY SOME. AGAIN BUT THIS TIME NO ONE LAUGHED. OF FROZEN BREATH AND THE INCIDENT AND THE WEEDY. CRÊPE DE CHINE CONTAINED NO FACET OR GLEAM OF HOPE SPRANG INTO HIS. MAN COULD LINGER WITHOUT LOOKING. COLD CREAM. RATHER THAN TRYING TO TAKE DOWN ANY. NOSE. IN HIS. BARNYARD OF LONG ISLAND TOO. ASKED HELPLESSLY. SWITCHED BACK TO. WERE A SATISFACTORY HINT OF BEDROOMS UPSTAIRS MORE BEAUTIFUL AND COOL. BETTER. WAS SOMETHING MORE. ON WHICH TWO YOUNG WOMEN WERE BUOYED UP AS TOMS BROAD HAND FELL SHARPLY ON HIS TIPTOES AND PEERED OVER A NONEXISTENT NOSE.  SAID TOM. AND MY IRREGULAR LAWN WELL SHAVED BY. KNOW WHAT A MAN ACTING SORT OF APPEAL . YES  ILL HAVE TO FOLLOW THE SOUND DRAWING AQUAPLANES OVER CATARACTS OF. I COULD SEE NOTHING SINISTER ABOUT HIM GREW UP WITH A BUM NAMED ETTY IN THE GARDEN. HANDS.\n"
     ]
    }
   ],
   "source": [
    "generate_text(\"daisy\")"
   ]
  },
  {
   "cell_type": "markdown",
   "id": "associate-heath",
   "metadata": {},
   "source": [
    "Here, our start word in \"Daisy\"."
   ]
  },
  {
   "cell_type": "code",
   "execution_count": 86,
   "id": "artistic-microwave",
   "metadata": {},
   "outputs": [
    {
     "name": "stdout",
     "output_type": "stream",
     "text": [
      "TOM AUTOMATICALLY.  IF THERE IS ANYTHING I CAN TELL YOU A. SQUEEZED IT UP. RAISED A LITTLE LATER. BUT WEVE ALWAYS BEEN UNUSUALLY COMMUNICATIVE. OVER. JUNE SHE MARRIED ME AND SHE EXPLAINED THAT WE HIRE FIVE. NOT. THAT WAS. WAS TAKEN UP INSIDE AND THE BEST FOREVER.  SHE WENT WITH ANYONE. TWENTY SEVEN. LEAVESLL START.  HE STAYED THERE TWO WEEKS ITLL BE THE LONGEST DAY. SHAME FOR GATSBYONE GENTLEMAN TO WHOM I SCARCELY KNEW AT ALL. THE LOWER ORDERS. TO CALL. BOY WENT FOR A WEEK . HIS HAND. WHIP AND SNAP OF. SAW HIM STOOP ONE ULTIMATE. MAN . ALWAYS BEEN UNUSUALLY COMMUNICATIVE. ON CERTAIN DAYS. REPLACED IT HASTILY ON ITS SHELF .  I. HAPPENS TO BE MORE. WEATHER AND THERE ADAPTING ITSELF TO HIS ANCESTRAL HOME THREE MONTHS BEFORE. THE EARTH AND DIDNT MOVE OR BREATHE OR. SEVERAL TIMES AND HAD A WOMAN NAMED ROOSEVELT  HE WAS AWARE OF THE DOOR OF THE OLD WARM WORLD PAID A. SHOT AND YET SATISFY THE DEMANDS OF HER UNEXPECTED JOY. OF CHAMPAGNE AND THE LEECHES AND A FEW MINUTES ON THE WALL AND TOM.\n"
     ]
    }
   ],
   "source": [
    "generate_text(\"tom\")"
   ]
  },
  {
   "cell_type": "markdown",
   "id": "advance-component",
   "metadata": {},
   "source": [
    "The start word here is \"tom\"."
   ]
  },
  {
   "cell_type": "markdown",
   "id": "attached-genesis",
   "metadata": {},
   "source": [
    "## Compute Entropy "
   ]
  },
  {
   "cell_type": "code",
   "execution_count": 87,
   "id": "double-weapon",
   "metadata": {},
   "outputs": [],
   "source": [
    "H2 = (m2.p * np.log2(1/m2['p'])).sum()\n",
    "H3 = (m3.p * np.log2(1/m3['p'])).sum()"
   ]
  },
  {
   "cell_type": "code",
   "execution_count": 88,
   "id": "european-withdrawal",
   "metadata": {},
   "outputs": [
    {
     "data": {
      "text/plain": [
       "(13.596489806506689, 14.77829385594137)"
      ]
     },
     "execution_count": 88,
     "metadata": {},
     "output_type": "execute_result"
    }
   ],
   "source": [
    "H2,H3"
   ]
  },
  {
   "cell_type": "markdown",
   "id": "scientific-association",
   "metadata": {},
   "source": [
    "The entropy -- surprisal, uncertainty-- of m2 is about 13.60% and for m3 is 14.78%. "
   ]
  },
  {
   "cell_type": "markdown",
   "id": "logical-colon",
   "metadata": {},
   "source": [
    "By quantifying entropy, we are looking for a measurement of how much surprise there is in an event. These events that are rare or low probability are more surprirising, and therefore they have more entropy. \n",
    "\n",
    "As we see above, our entropy levels are relatively low at about 13.60 and 14.78. Therefore, these events are common (high probability)"
   ]
  },
  {
   "cell_type": "code",
   "execution_count": 89,
   "id": "challenging-cabinet",
   "metadata": {},
   "outputs": [],
   "source": [
    "H2max = np.log2(m2.shape[0])\n",
    "H3max = np.log2(m3.shape[0])"
   ]
  },
  {
   "cell_type": "code",
   "execution_count": 90,
   "id": "lonely-allah",
   "metadata": {},
   "outputs": [
    {
     "data": {
      "text/plain": [
       "(14.734550864237685, 15.314264592690153)"
      ]
     },
     "execution_count": 90,
     "metadata": {},
     "output_type": "execute_result"
    }
   ],
   "source": [
    "H2max, H3max"
   ]
  },
  {
   "cell_type": "markdown",
   "id": "embedded-minneapolis",
   "metadata": {},
   "source": [
    "Above, with H2max and H3max, we see the maximum entropy. The maximum entropy of a random variable is just the log of the\n",
    "inverse of the number of possibilities (events). Although we see an increase from the original entropies we looked at, we can see that its not significant. "
   ]
  },
  {
   "cell_type": "code",
   "execution_count": 91,
   "id": "relevant-album",
   "metadata": {},
   "outputs": [],
   "source": [
    "R2 = 1 - (H2/H2max)\n",
    "R3 = 1 - (H3/H3max)"
   ]
  },
  {
   "cell_type": "code",
   "execution_count": 92,
   "id": "spectacular-reporter",
   "metadata": {},
   "outputs": [
    {
     "data": {
      "text/plain": [
       "(0.07723758044727314, 0.03499813742310631)"
      ]
     },
     "execution_count": 92,
     "metadata": {},
     "output_type": "execute_result"
    }
   ],
   "source": [
    "R2, R3"
   ]
  },
  {
   "cell_type": "code",
   "execution_count": 93,
   "id": "japanese-documentary",
   "metadata": {},
   "outputs": [
    {
     "data": {
      "text/plain": [
       "25.0"
      ]
     },
     "execution_count": 93,
     "metadata": {},
     "output_type": "execute_result"
    }
   ],
   "source": [
    "#Redundancy of the model 1\n",
    "n_terms1 = m1.n.count() # same as vocab.shape[0]\n",
    "Hmax = np.log2(n_terms1)\n",
    "R = 1 - (H/Hmax) #more normalized version of the entropy \n",
    "\n",
    "round(R, 2) * 100 #30% which is lower than Shannons estimate for english in general\n",
    "\n",
    "#higher the redundancy the lower the entropy \n"
   ]
  },
  {
   "cell_type": "code",
   "execution_count": 94,
   "id": "second-chemical",
   "metadata": {},
   "outputs": [
    {
     "data": {
      "text/plain": [
       "36.0"
      ]
     },
     "execution_count": 94,
     "metadata": {},
     "output_type": "execute_result"
    }
   ],
   "source": [
    "#Redundancy of the model 2\n",
    "n_terms2 = m2.n.count() # same as vocab.shape[0]\n",
    "Hmax = np.log2(n_terms2)\n",
    "R = 1 - (H/Hmax) #more normalized version of the entropy \n",
    "\n",
    "round(R, 2) * 100 #30% which is lower than Shannons estimate for english in general\n",
    "\n",
    "#higher the redundancy the lower the entropy \n"
   ]
  },
  {
   "cell_type": "code",
   "execution_count": 95,
   "id": "tracked-movie",
   "metadata": {},
   "outputs": [
    {
     "data": {
      "text/plain": [
       "38.0"
      ]
     },
     "execution_count": 95,
     "metadata": {},
     "output_type": "execute_result"
    }
   ],
   "source": [
    "#Redundancy of the model 3\n",
    "n_terms3 = m3.n.count() # same as vocab.shape[0]\n",
    "Hmax = np.log2(n_terms3)\n",
    "R = 1 - (H/Hmax) #more normalized version of the entropy \n",
    "\n",
    "round(R, 2) * 100 #30% which is lower than Shannons estimate for english in general\n",
    "\n",
    "#higher the redundancy the lower the entropy \n"
   ]
  },
  {
   "cell_type": "code",
   "execution_count": 96,
   "id": "moderate-pollution",
   "metadata": {},
   "outputs": [],
   "source": [
    "m1.to_csv(\"{}/GATSBY-M1.csv\".format(data_out))\n",
    "m2.to_csv(\"{}/GATSBY-M2.csv\".format(data_out))\n",
    "m3.to_csv(\"{}/GATSBY-M3.csv\".format(data_out))"
   ]
  },
  {
   "cell_type": "code",
   "execution_count": 97,
   "id": "excessive-establishment",
   "metadata": {},
   "outputs": [],
   "source": [
    "import dill\n",
    "dill.dump_session('notebook_env_file3.db')"
   ]
  },
  {
   "cell_type": "code",
   "execution_count": null,
   "id": "brown-warrant",
   "metadata": {},
   "outputs": [],
   "source": []
  }
 ],
 "metadata": {
  "kernelspec": {
   "display_name": "Python 3",
   "language": "python",
   "name": "python3"
  },
  "language_info": {
   "codemirror_mode": {
    "name": "ipython",
    "version": 3
   },
   "file_extension": ".py",
   "mimetype": "text/x-python",
   "name": "python",
   "nbconvert_exporter": "python",
   "pygments_lexer": "ipython3",
   "version": "3.7.4"
  }
 },
 "nbformat": 4,
 "nbformat_minor": 5
}
